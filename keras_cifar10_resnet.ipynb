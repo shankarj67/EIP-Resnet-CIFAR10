{
  "nbformat": 4,
  "nbformat_minor": 0,
  "metadata": {
    "colab": {
      "name": "keras-cifar10-resnet.ipynb",
      "version": "0.3.2",
      "provenance": []
    },
    "kernelspec": {
      "name": "python3",
      "display_name": "Python 3"
    },
    "accelerator": "GPU"
  },
  "cells": [
    {
      "cell_type": "code",
      "metadata": {
        "id": "Do-R3K9pZU2u",
        "colab_type": "code",
        "colab": {
          "base_uri": "https://localhost:8080/",
          "height": 34
        },
        "outputId": "a6d76ca7-4c4b-449b-ddba-c02c82764db9"
      },
      "source": [
        "from __future__ import print_function\n",
        "import keras\n",
        "from keras.layers import Dense, Conv2D, BatchNormalization, Activation\n",
        "from keras.layers import AveragePooling2D, Input, Flatten\n",
        "from keras.optimizers import Adam\n",
        "from keras.callbacks import ModelCheckpoint, LearningRateScheduler\n",
        "from keras.callbacks import ReduceLROnPlateau\n",
        "from keras.preprocessing.image import ImageDataGenerator\n",
        "from keras.regularizers import l2\n",
        "from keras import backend as K\n",
        "from keras.models import Model\n",
        "from keras.datasets import cifar10\n",
        "import numpy as np\n",
        "import os\n",
        "\n",
        "# Ignore  the warnings\n",
        "import warnings\n",
        "warnings.filterwarnings('always')\n",
        "warnings.filterwarnings('ignore')\n",
        "\n",
        "# data visualisation and manipulation\n",
        "import numpy as np\n",
        "import pandas as pd\n",
        "import matplotlib.pyplot as plt\n",
        "from matplotlib import style\n",
        "import seaborn as sns\n",
        " \n",
        "#configure\n",
        "# sets matplotlib to inline and displays graphs below the corressponding cell.\n",
        "%matplotlib inline  \n",
        "style.use('fivethirtyeight')\n",
        "sns.set(style='whitegrid',color_codes=True)"
      ],
      "execution_count": 1,
      "outputs": [
        {
          "output_type": "stream",
          "text": [
            "Using TensorFlow backend.\n"
          ],
          "name": "stderr"
        }
      ]
    },
    {
      "cell_type": "code",
      "metadata": {
        "id": "kXHh3kZ3ZznA",
        "colab_type": "code",
        "colab": {}
      },
      "source": [
        "# Training parameters\n",
        "batch_size = 32  # orig paper trained all networks with batch_size=128\n",
        "epochs = 50\n",
        "data_augmentation = True\n",
        "num_classes = 10"
      ],
      "execution_count": 0,
      "outputs": []
    },
    {
      "cell_type": "code",
      "metadata": {
        "id": "pp2ycNWwZ97o",
        "colab_type": "code",
        "colab": {}
      },
      "source": [
        "# Subtracting pixel mean improves accuracy\n",
        "subtract_pixel_mean = True"
      ],
      "execution_count": 0,
      "outputs": []
    },
    {
      "cell_type": "code",
      "metadata": {
        "id": "2Lh02_raaA9T",
        "colab_type": "code",
        "colab": {}
      },
      "source": [
        "n = 3\n",
        "\n",
        "# Model version\n",
        "# Orig paper: version = 1 (ResNet v1), Improved ResNet: version = 2 (ResNet v2)\n",
        "version = 1\n",
        "\n",
        "# Computed depth from supplied model parameter n\n",
        "if version == 1:\n",
        "    depth = n * 6 + 2\n",
        "elif version == 2:\n",
        "    depth = n * 9 + 2\n",
        "\n",
        "# Model name, depth and version\n",
        "model_type = 'ResNet%dv%d' % (depth, version)"
      ],
      "execution_count": 0,
      "outputs": []
    },
    {
      "cell_type": "code",
      "metadata": {
        "id": "PkfEkDLoaJz3",
        "colab_type": "code",
        "colab": {
          "base_uri": "https://localhost:8080/",
          "height": 51
        },
        "outputId": "28f58d40-c34b-46e9-c2cc-f52052ebd26c"
      },
      "source": [
        "# Load the CIFAR10 data.\n",
        "(x_train, y_train), (x_test, y_test) = cifar10.load_data()"
      ],
      "execution_count": 5,
      "outputs": [
        {
          "output_type": "stream",
          "text": [
            "Downloading data from https://www.cs.toronto.edu/~kriz/cifar-10-python.tar.gz\n",
            "170500096/170498071 [==============================] - 6s 0us/step\n"
          ],
          "name": "stdout"
        }
      ]
    },
    {
      "cell_type": "code",
      "metadata": {
        "id": "6GH5CVS7aNgm",
        "colab_type": "code",
        "colab": {}
      },
      "source": [
        "# Input image dimensions.\n",
        "input_shape = x_train.shape[1:]"
      ],
      "execution_count": 0,
      "outputs": []
    },
    {
      "cell_type": "code",
      "metadata": {
        "id": "K4OWcMZlaTYb",
        "colab_type": "code",
        "colab": {}
      },
      "source": [
        "# Normalize data.\n",
        "x_train = x_train.astype('float32') / 255\n",
        "x_test = x_test.astype('float32') / 255"
      ],
      "execution_count": 0,
      "outputs": []
    },
    {
      "cell_type": "code",
      "metadata": {
        "id": "k_Z3C5UGaVvb",
        "colab_type": "code",
        "colab": {}
      },
      "source": [
        "# If subtract pixel mean is enabled\n",
        "if subtract_pixel_mean:\n",
        "    x_train_mean = np.mean(x_train, axis=0)\n",
        "    x_train -= x_train_mean\n",
        "    x_test -= x_train_mean"
      ],
      "execution_count": 0,
      "outputs": []
    },
    {
      "cell_type": "code",
      "metadata": {
        "id": "T6gx78UMaXcj",
        "colab_type": "code",
        "colab": {
          "base_uri": "https://localhost:8080/",
          "height": 85
        },
        "outputId": "1ff27c52-4ae0-4246-c75f-cde6cd6b3fc8"
      },
      "source": [
        "print('x_train shape:', x_train.shape)\n",
        "print(x_train.shape[0], 'train samples')\n",
        "print(x_test.shape[0], 'test samples')\n",
        "print('y_train shape:', y_train.shape)"
      ],
      "execution_count": 9,
      "outputs": [
        {
          "output_type": "stream",
          "text": [
            "x_train shape: (50000, 32, 32, 3)\n",
            "50000 train samples\n",
            "10000 test samples\n",
            "y_train shape: (50000, 1)\n"
          ],
          "name": "stdout"
        }
      ]
    },
    {
      "cell_type": "code",
      "metadata": {
        "id": "jyoltSjVaY-z",
        "colab_type": "code",
        "colab": {}
      },
      "source": [
        "# Convert class vectors to binary class matrices.\n",
        "y_train = keras.utils.to_categorical(y_train, num_classes)\n",
        "y_test = keras.utils.to_categorical(y_test, num_classes)"
      ],
      "execution_count": 0,
      "outputs": []
    },
    {
      "cell_type": "code",
      "metadata": {
        "id": "yt-iVqqxacT_",
        "colab_type": "code",
        "colab": {}
      },
      "source": [
        "def lr_schedule(epoch):\n",
        "    \"\"\"Learning Rate Schedule\n",
        "    Learning rate is scheduled to be reduced after 80, 120, 160, 180 epochs.\n",
        "    Called automatically every epoch as part of callbacks during training.\n",
        "    # Arguments\n",
        "        epoch (int): The number of epochs\n",
        "    # Returns\n",
        "        lr (float32): learning rate\n",
        "    \"\"\"\n",
        "    lr = 1e-3\n",
        "    if epoch > 180:\n",
        "        lr *= 0.5e-3\n",
        "    elif epoch > 160:\n",
        "        lr *= 1e-3\n",
        "    elif epoch > 120:\n",
        "        lr *= 1e-2\n",
        "    elif epoch > 80:\n",
        "        lr *= 1e-1\n",
        "    print('Learning rate: ', lr)\n",
        "    return lr\n",
        "\n",
        "  \n",
        "def resnet_layer(inputs,\n",
        "                 num_filters=16,\n",
        "                 kernel_size=3,\n",
        "                 strides=1,\n",
        "                 activation='relu',\n",
        "                 batch_normalization=True,\n",
        "                 conv_first=True):\n",
        "    \"\"\"2D Convolution-Batch Normalization-Activation stack builder\n",
        "    # Arguments\n",
        "        inputs (tensor): input tensor from input image or previous layer\n",
        "        num_filters (int): Conv2D number of filters\n",
        "        kernel_size (int): Conv2D square kernel dimensions\n",
        "        strides (int): Conv2D square stride dimensions\n",
        "        activation (string): activation name\n",
        "        batch_normalization (bool): whether to include batch normalization\n",
        "        conv_first (bool): conv-bn-activation (True) or\n",
        "            bn-activation-conv (False)\n",
        "    # Returns\n",
        "        x (tensor): tensor as input to the next layer\n",
        "    \"\"\"\n",
        "    conv = Conv2D(num_filters,\n",
        "                  kernel_size=kernel_size,\n",
        "                  strides=strides,\n",
        "                  padding='same',\n",
        "                  kernel_initializer='he_normal',\n",
        "                  kernel_regularizer=l2(1e-4))\n",
        "\n",
        "    x = inputs\n",
        "    if conv_first:\n",
        "        x = conv(x)\n",
        "        if batch_normalization:\n",
        "            x = BatchNormalization()(x)\n",
        "        if activation is not None:\n",
        "            x = Activation(activation)(x)\n",
        "    else:\n",
        "        if batch_normalization:\n",
        "            x = BatchNormalization()(x)\n",
        "        if activation is not None:\n",
        "            x = Activation(activation)(x)\n",
        "        x = conv(x)\n",
        "    return x\n",
        "\n",
        "\n",
        "def resnet_v1(input_shape, depth, num_classes=10):\n",
        "    \"\"\"ResNet Version 1 Model builder [a]\n",
        "    Stacks of 2 x (3 x 3) Conv2D-BN-ReLU\n",
        "    Last ReLU is after the shortcut connection.\n",
        "    At the beginning of each stage, the feature map size is halved (downsampled)\n",
        "    by a convolutional layer with strides=2, while the number of filters is\n",
        "    doubled. Within each stage, the layers have the same number filters and the\n",
        "    same number of filters.\n",
        "    Features maps sizes:\n",
        "    stage 0: 32x32, 16\n",
        "    stage 1: 16x16, 32\n",
        "    stage 2:  8x8,  64\n",
        "    The Number of parameters is approx the same as Table 6 of [a]:\n",
        "    ResNet20 0.27M\n",
        "    ResNet32 0.46M\n",
        "    ResNet44 0.66M\n",
        "    ResNet56 0.85M\n",
        "    ResNet110 1.7M\n",
        "    # Arguments\n",
        "        input_shape (tensor): shape of input image tensor\n",
        "        depth (int): number of core convolutional layers\n",
        "        num_classes (int): number of classes (CIFAR10 has 10)\n",
        "    # Returns\n",
        "        model (Model): Keras model instance\n",
        "    \"\"\"\n",
        "    if (depth - 2) % 6 != 0:\n",
        "        raise ValueError('depth should be 6n+2 (eg 20, 32, 44 in [a])')\n",
        "    # Start model definition.\n",
        "    num_filters = 16\n",
        "    num_res_blocks = int((depth - 2) / 6)\n",
        "\n",
        "    inputs = Input(shape=input_shape)\n",
        "    x = resnet_layer(inputs=inputs)\n",
        "    # Instantiate the stack of residual units\n",
        "    for stack in range(3):\n",
        "        for res_block in range(num_res_blocks):\n",
        "            strides = 1\n",
        "            if stack > 0 and res_block == 0:  # first layer but not first stack\n",
        "                strides = 2  # downsample\n",
        "            y = resnet_layer(inputs=x,\n",
        "                             num_filters=num_filters,\n",
        "                             strides=strides)\n",
        "            y = resnet_layer(inputs=y,\n",
        "                             num_filters=num_filters,\n",
        "                             activation=None)\n",
        "            if stack > 0 and res_block == 0:  # first layer but not first stack\n",
        "                # linear projection residual shortcut connection to match\n",
        "                # changed dims\n",
        "                x = resnet_layer(inputs=x,\n",
        "                                 num_filters=num_filters,\n",
        "                                 kernel_size=1,\n",
        "                                 strides=strides,\n",
        "                                 activation=None,\n",
        "                                 batch_normalization=False)\n",
        "            x = keras.layers.add([x, y])\n",
        "            x = Activation('relu')(x)\n",
        "        num_filters *= 2\n",
        "\n",
        "    # Add classifier on top.\n",
        "    # v1 does not use BN after last shortcut connection-ReLU\n",
        "    x = AveragePooling2D(pool_size=8)(x)\n",
        "    y = Flatten()(x)\n",
        "    outputs = Dense(num_classes,\n",
        "                    activation='softmax',\n",
        "                    kernel_initializer='he_normal')(y)\n",
        "\n",
        "    # Instantiate model.\n",
        "    model = Model(inputs=inputs, outputs=outputs)\n",
        "    return model\n",
        "\n",
        "\n",
        "def resnet_v2(input_shape, depth, num_classes=10):\n",
        "    \"\"\"ResNet Version 2 Model builder [b]\n",
        "    Stacks of (1 x 1)-(3 x 3)-(1 x 1) BN-ReLU-Conv2D or also known as\n",
        "    bottleneck layer\n",
        "    First shortcut connection per layer is 1 x 1 Conv2D.\n",
        "    Second and onwards shortcut connection is identity.\n",
        "    At the beginning of each stage, the feature map size is halved (downsampled)\n",
        "    by a convolutional layer with strides=2, while the number of filter maps is\n",
        "    doubled. Within each stage, the layers have the same number filters and the\n",
        "    same filter map sizes.\n",
        "    Features maps sizes:\n",
        "    conv1  : 32x32,  16\n",
        "    stage 0: 32x32,  64\n",
        "    stage 1: 16x16, 128\n",
        "    stage 2:  8x8,  256\n",
        "    # Arguments\n",
        "        input_shape (tensor): shape of input image tensor\n",
        "        depth (int): number of core convolutional layers\n",
        "        num_classes (int): number of classes (CIFAR10 has 10)\n",
        "    # Returns\n",
        "        model (Model): Keras model instance\n",
        "    \"\"\"\n",
        "    if (depth - 2) % 9 != 0:\n",
        "        raise ValueError('depth should be 9n+2 (eg 56 or 110 in [b])')\n",
        "    # Start model definition.\n",
        "    num_filters_in = 16\n",
        "    num_res_blocks = int((depth - 2) / 9)\n",
        "\n",
        "    inputs = Input(shape=input_shape)\n",
        "    # v2 performs Conv2D with BN-ReLU on input before splitting into 2 paths\n",
        "    x = resnet_layer(inputs=inputs,\n",
        "                     num_filters=num_filters_in,\n",
        "                     conv_first=True)\n",
        "\n",
        "    # Instantiate the stack of residual units\n",
        "    for stage in range(3):\n",
        "        for res_block in range(num_res_blocks):\n",
        "            activation = 'relu'\n",
        "            batch_normalization = True\n",
        "            strides = 1\n",
        "            if stage == 0:\n",
        "                num_filters_out = num_filters_in * 4\n",
        "                if res_block == 0:  # first layer and first stage\n",
        "                    activation = None\n",
        "                    batch_normalization = False\n",
        "            else:\n",
        "                num_filters_out = num_filters_in * 2\n",
        "                if res_block == 0:  # first layer but not first stage\n",
        "                    strides = 2    # downsample\n",
        "\n",
        "            # bottleneck residual unit\n",
        "            y = resnet_layer(inputs=x,\n",
        "                             num_filters=num_filters_in,\n",
        "                             kernel_size=1,\n",
        "                             strides=strides,\n",
        "                             activation=activation,\n",
        "                             batch_normalization=batch_normalization,\n",
        "                             conv_first=False)\n",
        "            y = resnet_layer(inputs=y,\n",
        "                             num_filters=num_filters_in,\n",
        "                             conv_first=False)\n",
        "            y = resnet_layer(inputs=y,\n",
        "                             num_filters=num_filters_out,\n",
        "                             kernel_size=1,\n",
        "                             conv_first=False)\n",
        "            if res_block == 0:\n",
        "                # linear projection residual shortcut connection to match\n",
        "                # changed dims\n",
        "                x = resnet_layer(inputs=x,\n",
        "                                 num_filters=num_filters_out,\n",
        "                                 kernel_size=1,\n",
        "                                 strides=strides,\n",
        "                                 activation=None,\n",
        "                                 batch_normalization=False)\n",
        "            x = keras.layers.add([x, y])\n",
        "\n",
        "        num_filters_in = num_filters_out\n",
        "\n",
        "    # Add classifier on top.\n",
        "    # v2 has BN-ReLU before Pooling\n",
        "    x = BatchNormalization()(x)\n",
        "    x = Activation('relu')(x)\n",
        "    x = AveragePooling2D(pool_size=8)(x)\n",
        "    y = Flatten()(x)\n",
        "    outputs = Dense(num_classes,\n",
        "                    activation='softmax',\n",
        "                    kernel_initializer='he_normal')(y)  \n",
        "    # Instantiate model.\n",
        "    model = Model(inputs=inputs, outputs=outputs)\n",
        "    return model"
      ],
      "execution_count": 0,
      "outputs": []
    },
    {
      "cell_type": "code",
      "metadata": {
        "id": "b-ok7HYDauXk",
        "colab_type": "code",
        "colab": {
          "base_uri": "https://localhost:8080/",
          "height": 1000
        },
        "outputId": "7c313d1a-a5bd-4499-b496-816da81fe025"
      },
      "source": [
        "if version == 2:\n",
        "    model = resnet_v2(input_shape=input_shape, depth=depth)\n",
        "else:\n",
        "    model = resnet_v1(input_shape=input_shape, depth=depth)\n",
        "\n",
        "model.compile(loss='categorical_crossentropy',\n",
        "              optimizer=Adam(lr=lr_schedule(0)),\n",
        "              metrics=['accuracy'])\n",
        "model.summary()\n",
        "print(model_type)"
      ],
      "execution_count": 15,
      "outputs": [
        {
          "output_type": "stream",
          "text": [
            "WARNING: Logging before flag parsing goes to stderr.\n",
            "W0701 07:25:05.777123 140366832105344 deprecation_wrapper.py:119] From /usr/local/lib/python3.6/dist-packages/keras/backend/tensorflow_backend.py:74: The name tf.get_default_graph is deprecated. Please use tf.compat.v1.get_default_graph instead.\n",
            "\n",
            "W0701 07:25:05.828221 140366832105344 deprecation_wrapper.py:119] From /usr/local/lib/python3.6/dist-packages/keras/backend/tensorflow_backend.py:517: The name tf.placeholder is deprecated. Please use tf.compat.v1.placeholder instead.\n",
            "\n",
            "W0701 07:25:05.840282 140366832105344 deprecation_wrapper.py:119] From /usr/local/lib/python3.6/dist-packages/keras/backend/tensorflow_backend.py:4185: The name tf.truncated_normal is deprecated. Please use tf.random.truncated_normal instead.\n",
            "\n",
            "W0701 07:25:05.907450 140366832105344 deprecation_wrapper.py:119] From /usr/local/lib/python3.6/dist-packages/keras/backend/tensorflow_backend.py:174: The name tf.get_default_session is deprecated. Please use tf.compat.v1.get_default_session instead.\n",
            "\n",
            "W0701 07:25:05.909922 140366832105344 deprecation_wrapper.py:119] From /usr/local/lib/python3.6/dist-packages/keras/backend/tensorflow_backend.py:181: The name tf.ConfigProto is deprecated. Please use tf.compat.v1.ConfigProto instead.\n",
            "\n",
            "W0701 07:25:09.458098 140366832105344 deprecation_wrapper.py:119] From /usr/local/lib/python3.6/dist-packages/keras/backend/tensorflow_backend.py:1834: The name tf.nn.fused_batch_norm is deprecated. Please use tf.compat.v1.nn.fused_batch_norm instead.\n",
            "\n",
            "W0701 07:25:11.814181 140366832105344 deprecation_wrapper.py:119] From /usr/local/lib/python3.6/dist-packages/keras/backend/tensorflow_backend.py:3980: The name tf.nn.avg_pool is deprecated. Please use tf.nn.avg_pool2d instead.\n",
            "\n",
            "W0701 07:25:11.866937 140366832105344 deprecation_wrapper.py:119] From /usr/local/lib/python3.6/dist-packages/keras/optimizers.py:790: The name tf.train.Optimizer is deprecated. Please use tf.compat.v1.train.Optimizer instead.\n",
            "\n"
          ],
          "name": "stderr"
        },
        {
          "output_type": "stream",
          "text": [
            "Learning rate:  0.001\n",
            "__________________________________________________________________________________________________\n",
            "Layer (type)                    Output Shape         Param #     Connected to                     \n",
            "==================================================================================================\n",
            "input_1 (InputLayer)            (None, 32, 32, 3)    0                                            \n",
            "__________________________________________________________________________________________________\n",
            "conv2d_1 (Conv2D)               (None, 32, 32, 16)   448         input_1[0][0]                    \n",
            "__________________________________________________________________________________________________\n",
            "batch_normalization_1 (BatchNor (None, 32, 32, 16)   64          conv2d_1[0][0]                   \n",
            "__________________________________________________________________________________________________\n",
            "activation_1 (Activation)       (None, 32, 32, 16)   0           batch_normalization_1[0][0]      \n",
            "__________________________________________________________________________________________________\n",
            "conv2d_2 (Conv2D)               (None, 32, 32, 16)   2320        activation_1[0][0]               \n",
            "__________________________________________________________________________________________________\n",
            "batch_normalization_2 (BatchNor (None, 32, 32, 16)   64          conv2d_2[0][0]                   \n",
            "__________________________________________________________________________________________________\n",
            "activation_2 (Activation)       (None, 32, 32, 16)   0           batch_normalization_2[0][0]      \n",
            "__________________________________________________________________________________________________\n",
            "conv2d_3 (Conv2D)               (None, 32, 32, 16)   2320        activation_2[0][0]               \n",
            "__________________________________________________________________________________________________\n",
            "batch_normalization_3 (BatchNor (None, 32, 32, 16)   64          conv2d_3[0][0]                   \n",
            "__________________________________________________________________________________________________\n",
            "add_1 (Add)                     (None, 32, 32, 16)   0           activation_1[0][0]               \n",
            "                                                                 batch_normalization_3[0][0]      \n",
            "__________________________________________________________________________________________________\n",
            "activation_3 (Activation)       (None, 32, 32, 16)   0           add_1[0][0]                      \n",
            "__________________________________________________________________________________________________\n",
            "conv2d_4 (Conv2D)               (None, 32, 32, 16)   2320        activation_3[0][0]               \n",
            "__________________________________________________________________________________________________\n",
            "batch_normalization_4 (BatchNor (None, 32, 32, 16)   64          conv2d_4[0][0]                   \n",
            "__________________________________________________________________________________________________\n",
            "activation_4 (Activation)       (None, 32, 32, 16)   0           batch_normalization_4[0][0]      \n",
            "__________________________________________________________________________________________________\n",
            "conv2d_5 (Conv2D)               (None, 32, 32, 16)   2320        activation_4[0][0]               \n",
            "__________________________________________________________________________________________________\n",
            "batch_normalization_5 (BatchNor (None, 32, 32, 16)   64          conv2d_5[0][0]                   \n",
            "__________________________________________________________________________________________________\n",
            "add_2 (Add)                     (None, 32, 32, 16)   0           activation_3[0][0]               \n",
            "                                                                 batch_normalization_5[0][0]      \n",
            "__________________________________________________________________________________________________\n",
            "activation_5 (Activation)       (None, 32, 32, 16)   0           add_2[0][0]                      \n",
            "__________________________________________________________________________________________________\n",
            "conv2d_6 (Conv2D)               (None, 32, 32, 16)   2320        activation_5[0][0]               \n",
            "__________________________________________________________________________________________________\n",
            "batch_normalization_6 (BatchNor (None, 32, 32, 16)   64          conv2d_6[0][0]                   \n",
            "__________________________________________________________________________________________________\n",
            "activation_6 (Activation)       (None, 32, 32, 16)   0           batch_normalization_6[0][0]      \n",
            "__________________________________________________________________________________________________\n",
            "conv2d_7 (Conv2D)               (None, 32, 32, 16)   2320        activation_6[0][0]               \n",
            "__________________________________________________________________________________________________\n",
            "batch_normalization_7 (BatchNor (None, 32, 32, 16)   64          conv2d_7[0][0]                   \n",
            "__________________________________________________________________________________________________\n",
            "add_3 (Add)                     (None, 32, 32, 16)   0           activation_5[0][0]               \n",
            "                                                                 batch_normalization_7[0][0]      \n",
            "__________________________________________________________________________________________________\n",
            "activation_7 (Activation)       (None, 32, 32, 16)   0           add_3[0][0]                      \n",
            "__________________________________________________________________________________________________\n",
            "conv2d_8 (Conv2D)               (None, 16, 16, 32)   4640        activation_7[0][0]               \n",
            "__________________________________________________________________________________________________\n",
            "batch_normalization_8 (BatchNor (None, 16, 16, 32)   128         conv2d_8[0][0]                   \n",
            "__________________________________________________________________________________________________\n",
            "activation_8 (Activation)       (None, 16, 16, 32)   0           batch_normalization_8[0][0]      \n",
            "__________________________________________________________________________________________________\n",
            "conv2d_9 (Conv2D)               (None, 16, 16, 32)   9248        activation_8[0][0]               \n",
            "__________________________________________________________________________________________________\n",
            "conv2d_10 (Conv2D)              (None, 16, 16, 32)   544         activation_7[0][0]               \n",
            "__________________________________________________________________________________________________\n",
            "batch_normalization_9 (BatchNor (None, 16, 16, 32)   128         conv2d_9[0][0]                   \n",
            "__________________________________________________________________________________________________\n",
            "add_4 (Add)                     (None, 16, 16, 32)   0           conv2d_10[0][0]                  \n",
            "                                                                 batch_normalization_9[0][0]      \n",
            "__________________________________________________________________________________________________\n",
            "activation_9 (Activation)       (None, 16, 16, 32)   0           add_4[0][0]                      \n",
            "__________________________________________________________________________________________________\n",
            "conv2d_11 (Conv2D)              (None, 16, 16, 32)   9248        activation_9[0][0]               \n",
            "__________________________________________________________________________________________________\n",
            "batch_normalization_10 (BatchNo (None, 16, 16, 32)   128         conv2d_11[0][0]                  \n",
            "__________________________________________________________________________________________________\n",
            "activation_10 (Activation)      (None, 16, 16, 32)   0           batch_normalization_10[0][0]     \n",
            "__________________________________________________________________________________________________\n",
            "conv2d_12 (Conv2D)              (None, 16, 16, 32)   9248        activation_10[0][0]              \n",
            "__________________________________________________________________________________________________\n",
            "batch_normalization_11 (BatchNo (None, 16, 16, 32)   128         conv2d_12[0][0]                  \n",
            "__________________________________________________________________________________________________\n",
            "add_5 (Add)                     (None, 16, 16, 32)   0           activation_9[0][0]               \n",
            "                                                                 batch_normalization_11[0][0]     \n",
            "__________________________________________________________________________________________________\n",
            "activation_11 (Activation)      (None, 16, 16, 32)   0           add_5[0][0]                      \n",
            "__________________________________________________________________________________________________\n",
            "conv2d_13 (Conv2D)              (None, 16, 16, 32)   9248        activation_11[0][0]              \n",
            "__________________________________________________________________________________________________\n",
            "batch_normalization_12 (BatchNo (None, 16, 16, 32)   128         conv2d_13[0][0]                  \n",
            "__________________________________________________________________________________________________\n",
            "activation_12 (Activation)      (None, 16, 16, 32)   0           batch_normalization_12[0][0]     \n",
            "__________________________________________________________________________________________________\n",
            "conv2d_14 (Conv2D)              (None, 16, 16, 32)   9248        activation_12[0][0]              \n",
            "__________________________________________________________________________________________________\n",
            "batch_normalization_13 (BatchNo (None, 16, 16, 32)   128         conv2d_14[0][0]                  \n",
            "__________________________________________________________________________________________________\n",
            "add_6 (Add)                     (None, 16, 16, 32)   0           activation_11[0][0]              \n",
            "                                                                 batch_normalization_13[0][0]     \n",
            "__________________________________________________________________________________________________\n",
            "activation_13 (Activation)      (None, 16, 16, 32)   0           add_6[0][0]                      \n",
            "__________________________________________________________________________________________________\n",
            "conv2d_15 (Conv2D)              (None, 8, 8, 64)     18496       activation_13[0][0]              \n",
            "__________________________________________________________________________________________________\n",
            "batch_normalization_14 (BatchNo (None, 8, 8, 64)     256         conv2d_15[0][0]                  \n",
            "__________________________________________________________________________________________________\n",
            "activation_14 (Activation)      (None, 8, 8, 64)     0           batch_normalization_14[0][0]     \n",
            "__________________________________________________________________________________________________\n",
            "conv2d_16 (Conv2D)              (None, 8, 8, 64)     36928       activation_14[0][0]              \n",
            "__________________________________________________________________________________________________\n",
            "conv2d_17 (Conv2D)              (None, 8, 8, 64)     2112        activation_13[0][0]              \n",
            "__________________________________________________________________________________________________\n",
            "batch_normalization_15 (BatchNo (None, 8, 8, 64)     256         conv2d_16[0][0]                  \n",
            "__________________________________________________________________________________________________\n",
            "add_7 (Add)                     (None, 8, 8, 64)     0           conv2d_17[0][0]                  \n",
            "                                                                 batch_normalization_15[0][0]     \n",
            "__________________________________________________________________________________________________\n",
            "activation_15 (Activation)      (None, 8, 8, 64)     0           add_7[0][0]                      \n",
            "__________________________________________________________________________________________________\n",
            "conv2d_18 (Conv2D)              (None, 8, 8, 64)     36928       activation_15[0][0]              \n",
            "__________________________________________________________________________________________________\n",
            "batch_normalization_16 (BatchNo (None, 8, 8, 64)     256         conv2d_18[0][0]                  \n",
            "__________________________________________________________________________________________________\n",
            "activation_16 (Activation)      (None, 8, 8, 64)     0           batch_normalization_16[0][0]     \n",
            "__________________________________________________________________________________________________\n",
            "conv2d_19 (Conv2D)              (None, 8, 8, 64)     36928       activation_16[0][0]              \n",
            "__________________________________________________________________________________________________\n",
            "batch_normalization_17 (BatchNo (None, 8, 8, 64)     256         conv2d_19[0][0]                  \n",
            "__________________________________________________________________________________________________\n",
            "add_8 (Add)                     (None, 8, 8, 64)     0           activation_15[0][0]              \n",
            "                                                                 batch_normalization_17[0][0]     \n",
            "__________________________________________________________________________________________________\n",
            "activation_17 (Activation)      (None, 8, 8, 64)     0           add_8[0][0]                      \n",
            "__________________________________________________________________________________________________\n",
            "conv2d_20 (Conv2D)              (None, 8, 8, 64)     36928       activation_17[0][0]              \n",
            "__________________________________________________________________________________________________\n",
            "batch_normalization_18 (BatchNo (None, 8, 8, 64)     256         conv2d_20[0][0]                  \n",
            "__________________________________________________________________________________________________\n",
            "activation_18 (Activation)      (None, 8, 8, 64)     0           batch_normalization_18[0][0]     \n",
            "__________________________________________________________________________________________________\n",
            "conv2d_21 (Conv2D)              (None, 8, 8, 64)     36928       activation_18[0][0]              \n",
            "__________________________________________________________________________________________________\n",
            "batch_normalization_19 (BatchNo (None, 8, 8, 64)     256         conv2d_21[0][0]                  \n",
            "__________________________________________________________________________________________________\n",
            "add_9 (Add)                     (None, 8, 8, 64)     0           activation_17[0][0]              \n",
            "                                                                 batch_normalization_19[0][0]     \n",
            "__________________________________________________________________________________________________\n",
            "activation_19 (Activation)      (None, 8, 8, 64)     0           add_9[0][0]                      \n",
            "__________________________________________________________________________________________________\n",
            "average_pooling2d_1 (AveragePoo (None, 1, 1, 64)     0           activation_19[0][0]              \n",
            "__________________________________________________________________________________________________\n",
            "flatten_1 (Flatten)             (None, 64)           0           average_pooling2d_1[0][0]        \n",
            "__________________________________________________________________________________________________\n",
            "dense_1 (Dense)                 (None, 10)           650         flatten_1[0][0]                  \n",
            "==================================================================================================\n",
            "Total params: 274,442\n",
            "Trainable params: 273,066\n",
            "Non-trainable params: 1,376\n",
            "__________________________________________________________________________________________________\n",
            "ResNet20v1\n"
          ],
          "name": "stdout"
        }
      ]
    },
    {
      "cell_type": "code",
      "metadata": {
        "id": "lb9CGqpUa3sN",
        "colab_type": "code",
        "colab": {}
      },
      "source": [
        "# Prepare model model saving directory.\n",
        "save_dir = os.path.join(os.getcwd(), 'saved_models')\n",
        "model_name = 'cifar10_%s_model.{epoch:03d}.h5' % model_type\n",
        "if not os.path.isdir(save_dir):\n",
        "    os.makedirs(save_dir)\n",
        "filepath = os.path.join(save_dir, model_name)"
      ],
      "execution_count": 0,
      "outputs": []
    },
    {
      "cell_type": "code",
      "metadata": {
        "id": "WUwavjaWbXy-",
        "colab_type": "code",
        "colab": {}
      },
      "source": [
        "# Prepare callbacks for model saving and for learning rate adjustment.\n",
        "checkpoint = ModelCheckpoint(filepath=filepath,\n",
        "                             monitor='val_acc',\n",
        "                             verbose=1,\n",
        "                             save_best_only=True)"
      ],
      "execution_count": 0,
      "outputs": []
    },
    {
      "cell_type": "code",
      "metadata": {
        "id": "U-UmqKoQbZ4Q",
        "colab_type": "code",
        "colab": {}
      },
      "source": [
        "lr_scheduler = LearningRateScheduler(lr_schedule)\n",
        "\n",
        "lr_reducer = ReduceLROnPlateau(factor=np.sqrt(0.1),\n",
        "                               cooldown=0,\n",
        "                               patience=5,\n",
        "                               min_lr=0.5e-6)\n",
        "callbacks = [checkpoint, lr_reducer, lr_scheduler]"
      ],
      "execution_count": 0,
      "outputs": []
    },
    {
      "cell_type": "code",
      "metadata": {
        "id": "xyQJi9FabcYC",
        "colab_type": "code",
        "colab": {
          "base_uri": "https://localhost:8080/",
          "height": 1000
        },
        "outputId": "72e8399e-653b-4ed7-e80f-e0049b415dab"
      },
      "source": [
        "# Run training, with or without data augmentation.\n",
        "if not data_augmentation:\n",
        "    print('Not using data augmentation.')\n",
        "    model.fit(x_train, y_train,\n",
        "              batch_size=batch_size,\n",
        "              epochs=epochs,\n",
        "              validation_data=(x_test, y_test),\n",
        "              shuffle=True,\n",
        "              callbacks=callbacks)\n",
        "else:\n",
        "    print('Using real-time data augmentation.')\n",
        "    # This will do preprocessing and realtime data augmentation:\n",
        "    datagen = ImageDataGenerator(\n",
        "        # set input mean to 0 over the dataset\n",
        "        featurewise_center=False,\n",
        "        # set each sample mean to 0\n",
        "        samplewise_center=False,\n",
        "        # divide inputs by std of dataset\n",
        "        featurewise_std_normalization=False,\n",
        "        # divide each input by its std\n",
        "        samplewise_std_normalization=False,\n",
        "        # apply ZCA whitening\n",
        "        zca_whitening=False,\n",
        "        # epsilon for ZCA whitening\n",
        "        zca_epsilon=1e-06,\n",
        "        # randomly rotate images in the range (deg 0 to 180)\n",
        "        rotation_range=0,\n",
        "        # randomly shift images horizontally\n",
        "        width_shift_range=0.1,\n",
        "        # randomly shift images vertically\n",
        "        height_shift_range=0.1,\n",
        "        # set range for random shear\n",
        "        shear_range=0.,\n",
        "        # set range for random zoom\n",
        "        zoom_range=0.,\n",
        "        # set range for random channel shifts\n",
        "        channel_shift_range=0.,\n",
        "        # set mode for filling points outside the input boundaries\n",
        "        fill_mode='nearest',\n",
        "        # value used for fill_mode = \"constant\"\n",
        "        cval=0.,\n",
        "        # randomly flip images\n",
        "        horizontal_flip=True,\n",
        "        # randomly flip images\n",
        "        vertical_flip=False,\n",
        "        # set rescaling factor (applied before any other transformation)\n",
        "        rescale=None,\n",
        "        # set function that will be applied on each input\n",
        "        preprocessing_function=None,\n",
        "        # image data format, either \"channels_first\" or \"channels_last\"\n",
        "        data_format=None,\n",
        "        # fraction of images reserved for validation (strictly between 0 and 1)\n",
        "        validation_split=0.0)\n",
        "\n",
        "    # Compute quantities required for featurewise normalization\n",
        "    # (std, mean, and principal components if ZCA whitening is applied).\n",
        "    datagen.fit(x_train)\n",
        "\n",
        "    # Fit the model on the batches generated by datagen.flow().\n",
        "    model.fit_generator(datagen.flow(x_train, y_train, batch_size=batch_size),\n",
        "                        validation_data=(x_test, y_test),\n",
        "                        epochs=epochs, verbose=1, workers=4,\n",
        "                        callbacks=callbacks, steps_per_epoch=x_train.shape[0]//batch_size)\n"
      ],
      "execution_count": 24,
      "outputs": [
        {
          "output_type": "stream",
          "text": [
            "Using real-time data augmentation.\n",
            "Epoch 1/50\n",
            "Learning rate:  0.001\n",
            "1562/1562 [==============================] - 86s 55ms/step - loss: 0.8553 - acc: 0.7619 - val_loss: 1.1289 - val_acc: 0.6957\n",
            "\n",
            "Epoch 00001: val_acc improved from 0.69010 to 0.69570, saving model to /content/saved_models/cifar10_ResNet20v1_model.001.h5\n",
            "Epoch 2/50\n",
            "Learning rate:  0.001\n",
            "1562/1562 [==============================] - 91s 58ms/step - loss: 0.8174 - acc: 0.7761 - val_loss: 0.8840 - val_acc: 0.7616\n",
            "\n",
            "Epoch 00002: val_acc improved from 0.69570 to 0.76160, saving model to /content/saved_models/cifar10_ResNet20v1_model.002.h5\n",
            "Epoch 3/50\n",
            "Learning rate:  0.001\n",
            "1562/1562 [==============================] - 94s 60ms/step - loss: 0.7835 - acc: 0.7883 - val_loss: 0.8849 - val_acc: 0.7565\n",
            "\n",
            "Epoch 00003: val_acc did not improve from 0.76160\n",
            "Epoch 4/50\n",
            "Learning rate:  0.001\n",
            "1562/1562 [==============================] - 91s 59ms/step - loss: 0.7555 - acc: 0.8000 - val_loss: 1.0319 - val_acc: 0.7289\n",
            "\n",
            "Epoch 00004: val_acc did not improve from 0.76160\n",
            "Epoch 5/50\n",
            "Learning rate:  0.001\n",
            "1562/1562 [==============================] - 89s 57ms/step - loss: 0.7336 - acc: 0.8111 - val_loss: 0.9319 - val_acc: 0.7527\n",
            "\n",
            "Epoch 00005: val_acc did not improve from 0.76160\n",
            "Epoch 6/50\n",
            "Learning rate:  0.001\n",
            "1562/1562 [==============================] - 87s 56ms/step - loss: 0.7109 - acc: 0.8189 - val_loss: 1.0027 - val_acc: 0.7440\n",
            "\n",
            "Epoch 00006: val_acc did not improve from 0.76160\n",
            "Epoch 7/50\n",
            "Learning rate:  0.001\n",
            "1562/1562 [==============================] - 88s 56ms/step - loss: 0.6982 - acc: 0.8226 - val_loss: 1.0364 - val_acc: 0.7464\n",
            "\n",
            "Epoch 00007: val_acc did not improve from 0.76160\n",
            "Epoch 8/50\n",
            "Learning rate:  0.001\n",
            "1562/1562 [==============================] - 93s 60ms/step - loss: 0.6886 - acc: 0.8269 - val_loss: 0.8930 - val_acc: 0.7748\n",
            "\n",
            "Epoch 00008: val_acc improved from 0.76160 to 0.77480, saving model to /content/saved_models/cifar10_ResNet20v1_model.008.h5\n",
            "Epoch 9/50\n",
            "Learning rate:  0.001\n",
            "1562/1562 [==============================] - 97s 62ms/step - loss: 0.6657 - acc: 0.8370 - val_loss: 0.8063 - val_acc: 0.7909\n",
            "\n",
            "Epoch 00009: val_acc improved from 0.77480 to 0.79090, saving model to /content/saved_models/cifar10_ResNet20v1_model.009.h5\n",
            "Epoch 10/50\n",
            "Learning rate:  0.001\n",
            "1562/1562 [==============================] - 97s 62ms/step - loss: 0.6636 - acc: 0.8345 - val_loss: 0.7267 - val_acc: 0.8217\n",
            "\n",
            "Epoch 00010: val_acc improved from 0.79090 to 0.82170, saving model to /content/saved_models/cifar10_ResNet20v1_model.010.h5\n",
            "Epoch 11/50\n",
            "Learning rate:  0.001\n",
            "1562/1562 [==============================] - 100s 64ms/step - loss: 0.6505 - acc: 0.8416 - val_loss: 0.7731 - val_acc: 0.8096\n",
            "\n",
            "Epoch 00011: val_acc did not improve from 0.82170\n",
            "Epoch 12/50\n",
            "Learning rate:  0.001\n",
            "1562/1562 [==============================] - 99s 63ms/step - loss: 0.6397 - acc: 0.8458 - val_loss: 0.8095 - val_acc: 0.7957\n",
            "\n",
            "Epoch 00012: val_acc did not improve from 0.82170\n",
            "Epoch 13/50\n",
            "Learning rate:  0.001\n",
            "1562/1562 [==============================] - 98s 63ms/step - loss: 0.6374 - acc: 0.8486 - val_loss: 0.7657 - val_acc: 0.8122\n",
            "\n",
            "Epoch 00013: val_acc did not improve from 0.82170\n",
            "Epoch 14/50\n",
            "Learning rate:  0.001\n",
            "1562/1562 [==============================] - 99s 64ms/step - loss: 0.6229 - acc: 0.8541 - val_loss: 0.6792 - val_acc: 0.8372\n",
            "\n",
            "Epoch 00014: val_acc improved from 0.82170 to 0.83720, saving model to /content/saved_models/cifar10_ResNet20v1_model.014.h5\n",
            "Epoch 15/50\n",
            "Learning rate:  0.001\n",
            "1562/1562 [==============================] - 100s 64ms/step - loss: 0.6168 - acc: 0.8565 - val_loss: 0.6934 - val_acc: 0.8328\n",
            "\n",
            "Epoch 00015: val_acc did not improve from 0.83720\n",
            "Epoch 16/50\n",
            "Learning rate:  0.001\n",
            "1562/1562 [==============================] - 100s 64ms/step - loss: 0.6153 - acc: 0.8567 - val_loss: 0.9424 - val_acc: 0.7619\n",
            "\n",
            "Epoch 00016: val_acc did not improve from 0.83720\n",
            "Epoch 17/50\n",
            "Learning rate:  0.001\n",
            "1562/1562 [==============================] - 98s 63ms/step - loss: 0.6082 - acc: 0.8598 - val_loss: 0.7972 - val_acc: 0.7998\n",
            "\n",
            "Epoch 00017: val_acc did not improve from 0.83720\n",
            "Epoch 18/50\n",
            "Learning rate:  0.001\n",
            "1562/1562 [==============================] - 94s 60ms/step - loss: 0.6038 - acc: 0.8608 - val_loss: 0.7459 - val_acc: 0.8205\n",
            "\n",
            "Epoch 00018: val_acc did not improve from 0.83720\n",
            "Epoch 19/50\n",
            "Learning rate:  0.001\n",
            "1562/1562 [==============================] - 93s 60ms/step - loss: 0.5986 - acc: 0.8627 - val_loss: 0.7129 - val_acc: 0.8341\n",
            "\n",
            "Epoch 00019: val_acc did not improve from 0.83720\n",
            "Epoch 20/50\n",
            "Learning rate:  0.001\n",
            "1562/1562 [==============================] - 94s 60ms/step - loss: 0.5886 - acc: 0.8653 - val_loss: 0.8680 - val_acc: 0.7929\n",
            "\n",
            "Epoch 00020: val_acc did not improve from 0.83720\n",
            "Epoch 21/50\n",
            "Learning rate:  0.001\n",
            "1562/1562 [==============================] - 97s 62ms/step - loss: 0.5887 - acc: 0.8664 - val_loss: 0.6720 - val_acc: 0.8423\n",
            "\n",
            "Epoch 00021: val_acc improved from 0.83720 to 0.84230, saving model to /content/saved_models/cifar10_ResNet20v1_model.021.h5\n",
            "Epoch 22/50\n",
            "Learning rate:  0.001\n",
            "1562/1562 [==============================] - 97s 62ms/step - loss: 0.5806 - acc: 0.8697 - val_loss: 0.7499 - val_acc: 0.8191\n",
            "\n",
            "Epoch 00022: val_acc did not improve from 0.84230\n",
            "Epoch 23/50\n",
            "Learning rate:  0.001\n",
            "1562/1562 [==============================] - 97s 62ms/step - loss: 0.5767 - acc: 0.8719 - val_loss: 0.7959 - val_acc: 0.8073\n",
            "\n",
            "Epoch 00023: val_acc did not improve from 0.84230\n",
            "Epoch 24/50\n",
            "Learning rate:  0.001\n",
            "1562/1562 [==============================] - 98s 63ms/step - loss: 0.5758 - acc: 0.8725 - val_loss: 0.8195 - val_acc: 0.7958\n",
            "\n",
            "Epoch 00024: val_acc did not improve from 0.84230\n",
            "Epoch 25/50\n",
            "Learning rate:  0.001\n",
            "1562/1562 [==============================] - 98s 63ms/step - loss: 0.5744 - acc: 0.8719 - val_loss: 0.9019 - val_acc: 0.7728\n",
            "\n",
            "Epoch 00025: val_acc did not improve from 0.84230\n",
            "Epoch 26/50\n",
            "Learning rate:  0.001\n",
            "1562/1562 [==============================] - 100s 64ms/step - loss: 0.5679 - acc: 0.8757 - val_loss: 0.6897 - val_acc: 0.8377\n",
            "\n",
            "Epoch 00026: val_acc did not improve from 0.84230\n",
            "Epoch 27/50\n",
            "Learning rate:  0.001\n",
            "1562/1562 [==============================] - 99s 64ms/step - loss: 0.5631 - acc: 0.8763 - val_loss: 0.7508 - val_acc: 0.8214\n",
            "\n",
            "Epoch 00027: val_acc did not improve from 0.84230\n",
            "Epoch 28/50\n",
            "Learning rate:  0.001\n",
            "1562/1562 [==============================] - 97s 62ms/step - loss: 0.5626 - acc: 0.8768 - val_loss: 0.7991 - val_acc: 0.8124\n",
            "\n",
            "Epoch 00028: val_acc did not improve from 0.84230\n",
            "Epoch 29/50\n",
            "Learning rate:  0.001\n",
            "1562/1562 [==============================] - 97s 62ms/step - loss: 0.5636 - acc: 0.8768 - val_loss: 0.7363 - val_acc: 0.8293\n",
            "\n",
            "Epoch 00029: val_acc did not improve from 0.84230\n",
            "Epoch 30/50\n",
            "Learning rate:  0.001\n",
            "1562/1562 [==============================] - 96s 62ms/step - loss: 0.5548 - acc: 0.8779 - val_loss: 0.6961 - val_acc: 0.8353\n",
            "\n",
            "Epoch 00030: val_acc did not improve from 0.84230\n",
            "Epoch 31/50\n",
            "Learning rate:  0.001\n",
            "1562/1562 [==============================] - 93s 60ms/step - loss: 0.5557 - acc: 0.8817 - val_loss: 0.8040 - val_acc: 0.8132\n",
            "\n",
            "Epoch 00031: val_acc did not improve from 0.84230\n",
            "Epoch 32/50\n",
            "Learning rate:  0.001\n",
            "1562/1562 [==============================] - 96s 61ms/step - loss: 0.5537 - acc: 0.8800 - val_loss: 0.7499 - val_acc: 0.8330\n",
            "\n",
            "Epoch 00032: val_acc did not improve from 0.84230\n",
            "Epoch 33/50\n",
            "Learning rate:  0.001\n",
            "1562/1562 [==============================] - 97s 62ms/step - loss: 0.5492 - acc: 0.8821 - val_loss: 0.6596 - val_acc: 0.8502\n",
            "\n",
            "Epoch 00033: val_acc improved from 0.84230 to 0.85020, saving model to /content/saved_models/cifar10_ResNet20v1_model.033.h5\n",
            "Epoch 34/50\n",
            "Learning rate:  0.001\n",
            "1562/1562 [==============================] - 96s 61ms/step - loss: 0.5471 - acc: 0.8840 - val_loss: 0.6619 - val_acc: 0.8498\n",
            "\n",
            "Epoch 00034: val_acc did not improve from 0.85020\n",
            "Epoch 35/50\n",
            "Learning rate:  0.001\n",
            "1562/1562 [==============================] - 96s 62ms/step - loss: 0.5489 - acc: 0.8807 - val_loss: 0.6418 - val_acc: 0.8568\n",
            "\n",
            "Epoch 00035: val_acc improved from 0.85020 to 0.85680, saving model to /content/saved_models/cifar10_ResNet20v1_model.035.h5\n",
            "Epoch 36/50\n",
            "Learning rate:  0.001\n",
            "1562/1562 [==============================] - 97s 62ms/step - loss: 0.5452 - acc: 0.8830 - val_loss: 0.6641 - val_acc: 0.8511\n",
            "\n",
            "Epoch 00036: val_acc did not improve from 0.85680\n",
            "Epoch 37/50\n",
            "Learning rate:  0.001\n",
            "1562/1562 [==============================] - 97s 62ms/step - loss: 0.5419 - acc: 0.8846 - val_loss: 0.8137 - val_acc: 0.8221\n",
            "\n",
            "Epoch 00037: val_acc did not improve from 0.85680\n",
            "Epoch 38/50\n",
            "Learning rate:  0.001\n",
            "1562/1562 [==============================] - 95s 61ms/step - loss: 0.5431 - acc: 0.8859 - val_loss: 0.7491 - val_acc: 0.8297\n",
            "\n",
            "Epoch 00038: val_acc did not improve from 0.85680\n",
            "Epoch 39/50\n",
            "Learning rate:  0.001\n",
            "1562/1562 [==============================] - 97s 62ms/step - loss: 0.5411 - acc: 0.8849 - val_loss: 0.8185 - val_acc: 0.8141\n",
            "\n",
            "Epoch 00039: val_acc did not improve from 0.85680\n",
            "Epoch 40/50\n",
            "Learning rate:  0.001\n",
            "1562/1562 [==============================] - 100s 64ms/step - loss: 0.5365 - acc: 0.8866 - val_loss: 0.6445 - val_acc: 0.8542\n",
            "\n",
            "Epoch 00040: val_acc did not improve from 0.85680\n",
            "Epoch 41/50\n",
            "Learning rate:  0.001\n",
            "1562/1562 [==============================] - 96s 62ms/step - loss: 0.5328 - acc: 0.8885 - val_loss: 0.6895 - val_acc: 0.8463\n",
            "\n",
            "Epoch 00041: val_acc did not improve from 0.85680\n",
            "Epoch 42/50\n",
            "Learning rate:  0.001\n",
            "1562/1562 [==============================] - 99s 64ms/step - loss: 0.5280 - acc: 0.8886 - val_loss: 0.8928 - val_acc: 0.8014\n",
            "\n",
            "Epoch 00042: val_acc did not improve from 0.85680\n",
            "Epoch 43/50\n",
            "Learning rate:  0.001\n",
            "1562/1562 [==============================] - 97s 62ms/step - loss: 0.5344 - acc: 0.8871 - val_loss: 0.6493 - val_acc: 0.8569\n",
            "\n",
            "Epoch 00043: val_acc improved from 0.85680 to 0.85690, saving model to /content/saved_models/cifar10_ResNet20v1_model.043.h5\n",
            "Epoch 44/50\n",
            "Learning rate:  0.001\n",
            "1562/1562 [==============================] - 97s 62ms/step - loss: 0.5315 - acc: 0.8878 - val_loss: 0.6734 - val_acc: 0.8573\n",
            "\n",
            "Epoch 00044: val_acc improved from 0.85690 to 0.85730, saving model to /content/saved_models/cifar10_ResNet20v1_model.044.h5\n",
            "Epoch 45/50\n",
            "Learning rate:  0.001\n",
            "1562/1562 [==============================] - 97s 62ms/step - loss: 0.5266 - acc: 0.8897 - val_loss: 0.7086 - val_acc: 0.8370\n",
            "\n",
            "Epoch 00045: val_acc did not improve from 0.85730\n",
            "Epoch 46/50\n",
            "Learning rate:  0.001\n",
            "1562/1562 [==============================] - 97s 62ms/step - loss: 0.5293 - acc: 0.8901 - val_loss: 0.6568 - val_acc: 0.8570\n",
            "\n",
            "Epoch 00046: val_acc did not improve from 0.85730\n",
            "Epoch 47/50\n",
            "Learning rate:  0.001\n",
            "1562/1562 [==============================] - 97s 62ms/step - loss: 0.5253 - acc: 0.8929 - val_loss: 0.7379 - val_acc: 0.8280\n",
            "\n",
            "Epoch 00047: val_acc did not improve from 0.85730\n",
            "Epoch 48/50\n",
            "Learning rate:  0.001\n",
            "1562/1562 [==============================] - 97s 62ms/step - loss: 0.5219 - acc: 0.8920 - val_loss: 0.7358 - val_acc: 0.8313\n",
            "\n",
            "Epoch 00048: val_acc did not improve from 0.85730\n",
            "Epoch 49/50\n",
            "Learning rate:  0.001\n",
            "1562/1562 [==============================] - 96s 62ms/step - loss: 0.5224 - acc: 0.8904 - val_loss: 0.7615 - val_acc: 0.8282\n",
            "\n",
            "Epoch 00049: val_acc did not improve from 0.85730\n",
            "Epoch 50/50\n",
            "Learning rate:  0.001\n",
            "1562/1562 [==============================] - 95s 61ms/step - loss: 0.5244 - acc: 0.8925 - val_loss: 0.6829 - val_acc: 0.8414\n",
            "\n",
            "Epoch 00050: val_acc did not improve from 0.85730\n"
          ],
          "name": "stdout"
        }
      ]
    },
    {
      "cell_type": "code",
      "metadata": {
        "id": "e4mPW8pNbowm",
        "colab_type": "code",
        "colab": {
          "base_uri": "https://localhost:8080/",
          "height": 68
        },
        "outputId": "8da7e5bd-a136-4e5a-d2c5-c02778d895df"
      },
      "source": [
        "# Score trained model.\n",
        "scores = model.evaluate(x_test, y_test, verbose=1)\n",
        "print('Test loss:', scores[0])\n",
        "print('Test accuracy:', scores[1])"
      ],
      "execution_count": 25,
      "outputs": [
        {
          "output_type": "stream",
          "text": [
            "10000/10000 [==============================] - 3s 346us/step\n",
            "Test loss: 0.6828972926139831\n",
            "Test accuracy: 0.8414\n"
          ],
          "name": "stdout"
        }
      ]
    },
    {
      "cell_type": "code",
      "metadata": {
        "id": "tbYxGwVvxdec",
        "colab_type": "code",
        "colab": {}
      },
      "source": [
        "# getting predictions on val set.\n",
        "pred=model.predict(x_test)\n",
        "pred_digits=np.argmax(pred,axis=1)"
      ],
      "execution_count": 0,
      "outputs": []
    },
    {
      "cell_type": "code",
      "metadata": {
        "id": "qA5baHfQx2Mt",
        "colab_type": "code",
        "colab": {}
      },
      "source": [
        "# now storing some properly as well as misclassified indexes'.\n",
        "i=0\n",
        "prop_class=[]\n",
        "mis_class=[]\n",
        "\n",
        "for i in range(len(y_test)):\n",
        "    if(np.argmax(y_test[i])==pred_digits[i]):\n",
        "        prop_class.append(i)\n",
        "    \n",
        "\n",
        "i=0\n",
        "for i in range(len(y_test)):\n",
        "    if(not np.argmax(y_test[i])==pred_digits[i]):\n",
        "        mis_class.append(i)\n",
        "    "
      ],
      "execution_count": 0,
      "outputs": []
    },
    {
      "cell_type": "markdown",
      "metadata": {
        "id": "EcoIrD6Zxddw",
        "colab_type": "text"
      },
      "source": [
        "# Misclassified Image"
      ]
    },
    {
      "cell_type": "markdown",
      "metadata": {
        "id": "e0Ffs0eyyQjZ",
        "colab_type": "text"
      },
      "source": [
        "Printing all the misclassified image"
      ]
    },
    {
      "cell_type": "code",
      "metadata": {
        "id": "2fN-VYLXxccZ",
        "colab_type": "code",
        "colab": {
          "base_uri": "https://localhost:8080/",
          "height": 1000
        },
        "outputId": "246542ed-84a2-4cd8-c2e0-f78ec04811d5"
      },
      "source": [
        "from matplotlib import pyplot as plt\n",
        "for i in mis_class[:50]:\n",
        "    plt.figure(figsize=(1,1))\n",
        "    plt.imshow(x_test[i], interpolation='nearest')\n",
        "    plt.show()"
      ],
      "execution_count": 151,
      "outputs": [
        {
          "output_type": "stream",
          "text": [
            "W0701 13:46:08.880549 140366832105344 image.py:648] Clipping input data to the valid range for imshow with RGB data ([0..1] for floats or [0..255] for integers).\n"
          ],
          "name": "stderr"
        },
        {
          "output_type": "display_data",
          "data": {
            "image/png": "[encoded data removed]",
            "text/plain": [
              "<Figure size 72x72 with 1 Axes>"
            ]
          },
          "metadata": {
            "tags": []
          }
        },
        {
          "output_type": "stream",
          "text": [
            "W0701 13:46:09.021221 140366832105344 image.py:648] Clipping input data to the valid range for imshow with RGB data ([0..1] for floats or [0..255] for integers).\n"
          ],
          "name": "stderr"
        },
        {
          "output_type": "display_data",
          "data": {
            "image/png": "[encoded data removed]",
            "text/plain": [
              "<Figure size 72x72 with 1 Axes>"
            ]
          },
          "metadata": {
            "tags": []
          }
        },
        {
          "output_type": "stream",
          "text": [
            "W0701 13:46:09.171201 140366832105344 image.py:648] Clipping input data to the valid range for imshow with RGB data ([0..1] for floats or [0..255] for integers).\n"
          ],
          "name": "stderr"
        },
        {
          "output_type": "display_data",
          "data": {
            "image/png": "[encoded data removed]",
            "text/plain": [
              "<Figure size 72x72 with 1 Axes>"
            ]
          },
          "metadata": {
            "tags": []
          }
        },
        {
          "output_type": "stream",
          "text": [
            "W0701 13:46:09.306022 140366832105344 image.py:648] Clipping input data to the valid range for imshow with RGB data ([0..1] for floats or [0..255] for integers).\n"
          ],
          "name": "stderr"
        },
        {
          "output_type": "display_data",
          "data": {
            "image/png": "[encoded data removed]",
            "text/plain": [
              "<Figure size 72x72 with 1 Axes>"
            ]
          },
          "metadata": {
            "tags": []
          }
        },
        {
          "output_type": "stream",
          "text": [
            "W0701 13:46:09.441468 140366832105344 image.py:648] Clipping input data to the valid range for imshow with RGB data ([0..1] for floats or [0..255] for integers).\n"
          ],
          "name": "stderr"
        },
        {
          "output_type": "display_data",
          "data": {
            "image/png": "[encoded data removed]",
            "text/plain": [
              "<Figure size 72x72 with 1 Axes>"
            ]
          },
          "metadata": {
            "tags": []
          }
        },
        {
          "output_type": "stream",
          "text": [
            "W0701 13:46:09.575076 140366832105344 image.py:648] Clipping input data to the valid range for imshow with RGB data ([0..1] for floats or [0..255] for integers).\n"
          ],
          "name": "stderr"
        },
        {
          "output_type": "display_data",
          "data": {
            "image/png": "[encoded data removed]",
            "text/plain": [
              "<Figure size 72x72 with 1 Axes>"
            ]
          },
          "metadata": {
            "tags": []
          }
        },
        {
          "output_type": "stream",
          "text": [
            "W0701 13:46:09.691611 140366832105344 image.py:648] Clipping input data to the valid range for imshow with RGB data ([0..1] for floats or [0..255] for integers).\n"
          ],
          "name": "stderr"
        },
        {
          "output_type": "display_data",
          "data": {
            "image/png": "[encoded data removed]",
            "text/plain": [
              "<Figure size 72x72 with 1 Axes>"
            ]
          },
          "metadata": {
            "tags": []
          }
        },
        {
          "output_type": "stream",
          "text": [
            "W0701 13:46:09.795612 140366832105344 image.py:648] Clipping input data to the valid range for imshow with RGB data ([0..1] for floats or [0..255] for integers).\n"
          ],
          "name": "stderr"
        },
        {
          "output_type": "display_data",
          "data": {
            "image/png": "[encoded data removed]",
            "text/plain": [
              "<Figure size 72x72 with 1 Axes>"
            ]
          },
          "metadata": {
            "tags": []
          }
        },
        {
          "output_type": "stream",
          "text": [
            "W0701 13:46:09.897729 140366832105344 image.py:648] Clipping input data to the valid range for imshow with RGB data ([0..1] for floats or [0..255] for integers).\n"
          ],
          "name": "stderr"
        },
        {
          "output_type": "display_data",
          "data": {
            "image/png": "[encoded data removed]",
            "text/plain": [
              "<Figure size 72x72 with 1 Axes>"
            ]
          },
          "metadata": {
            "tags": []
          }
        },
        {
          "output_type": "stream",
          "text": [
            "W0701 13:46:09.999589 140366832105344 image.py:648] Clipping input data to the valid range for imshow with RGB data ([0..1] for floats or [0..255] for integers).\n"
          ],
          "name": "stderr"
        },
        {
          "output_type": "display_data",
          "data": {
            "image/png": "[encoded data removed]",
            "text/plain": [
              "<Figure size 72x72 with 1 Axes>"
            ]
          },
          "metadata": {
            "tags": []
          }
        },
        {
          "output_type": "stream",
          "text": [
            "W0701 13:46:10.114675 140366832105344 image.py:648] Clipping input data to the valid range for imshow with RGB data ([0..1] for floats or [0..255] for integers).\n"
          ],
          "name": "stderr"
        },
        {
          "output_type": "display_data",
          "data": {
            "image/png": "[encoded data removed]",
            "text/plain": [
              "<Figure size 72x72 with 1 Axes>"
            ]
          },
          "metadata": {
            "tags": []
          }
        },
        {
          "output_type": "stream",
          "text": [
            "W0701 13:46:10.217776 140366832105344 image.py:648] Clipping input data to the valid range for imshow with RGB data ([0..1] for floats or [0..255] for integers).\n"
          ],
          "name": "stderr"
        },
        {
          "output_type": "display_data",
          "data": {
            "image/png": "[encoded data removed]",
            "text/plain": [
              "<Figure size 72x72 with 1 Axes>"
            ]
          },
          "metadata": {
            "tags": []
          }
        },
        {
          "output_type": "stream",
          "text": [
            "W0701 13:46:10.319385 140366832105344 image.py:648] Clipping input data to the valid range for imshow with RGB data ([0..1] for floats or [0..255] for integers).\n"
          ],
          "name": "stderr"
        },
        {
          "output_type": "display_data",
          "data": {
            "image/png": "[encoded data removed]",
            "text/plain": [
              "<Figure size 72x72 with 1 Axes>"
            ]
          },
          "metadata": {
            "tags": []
          }
        },
        {
          "output_type": "stream",
          "text": [
            "W0701 13:46:10.420260 140366832105344 image.py:648] Clipping input data to the valid range for imshow with RGB data ([0..1] for floats or [0..255] for integers).\n"
          ],
          "name": "stderr"
        },
        {
          "output_type": "display_data",
          "data": {
            "image/png": "[encoded data removed]",
            "text/plain": [
              "<Figure size 72x72 with 1 Axes>"
            ]
          },
          "metadata": {
            "tags": []
          }
        },
        {
          "output_type": "stream",
          "text": [
            "W0701 13:46:10.520542 140366832105344 image.py:648] Clipping input data to the valid range for imshow with RGB data ([0..1] for floats or [0..255] for integers).\n"
          ],
          "name": "stderr"
        },
        {
          "output_type": "display_data",
          "data": {
            "image/png": "[encoded data removed]",
            "text/plain": [
              "<Figure size 72x72 with 1 Axes>"
            ]
          },
          "metadata": {
            "tags": []
          }
        },
        {
          "output_type": "stream",
          "text": [
            "W0701 13:46:10.620729 140366832105344 image.py:648] Clipping input data to the valid range for imshow with RGB data ([0..1] for floats or [0..255] for integers).\n"
          ],
          "name": "stderr"
        },
        {
          "output_type": "display_data",
          "data": {
            "image/png": "[encoded data removed]",
            "text/plain": [
              "<Figure size 72x72 with 1 Axes>"
            ]
          },
          "metadata": {
            "tags": []
          }
        },
        {
          "output_type": "stream",
          "text": [
            "W0701 13:46:10.722246 140366832105344 image.py:648] Clipping input data to the valid range for imshow with RGB data ([0..1] for floats or [0..255] for integers).\n"
          ],
          "name": "stderr"
        },
        {
          "output_type": "display_data",
          "data": {
            "image/png": "[encoded data removed]",
            "text/plain": [
              "<Figure size 72x72 with 1 Axes>"
            ]
          },
          "metadata": {
            "tags": []
          }
        },
        {
          "output_type": "stream",
          "text": [
            "W0701 13:46:10.824452 140366832105344 image.py:648] Clipping input data to the valid range for imshow with RGB data ([0..1] for floats or [0..255] for integers).\n"
          ],
          "name": "stderr"
        },
        {
          "output_type": "display_data",
          "data": {
            "image/png": "[encoded data removed]",
            "text/plain": [
              "<Figure size 72x72 with 1 Axes>"
            ]
          },
          "metadata": {
            "tags": []
          }
        },
        {
          "output_type": "stream",
          "text": [
            "W0701 13:46:10.925401 140366832105344 image.py:648] Clipping input data to the valid range for imshow with RGB data ([0..1] for floats or [0..255] for integers).\n"
          ],
          "name": "stderr"
        },
        {
          "output_type": "display_data",
          "data": {
            "image/png": "[encoded data removed]",
            "text/plain": [
              "<Figure size 72x72 with 1 Axes>"
            ]
          },
          "metadata": {
            "tags": []
          }
        },
        {
          "output_type": "stream",
          "text": [
            "W0701 13:46:11.023032 140366832105344 image.py:648] Clipping input data to the valid range for imshow with RGB data ([0..1] for floats or [0..255] for integers).\n"
          ],
          "name": "stderr"
        },
        {
          "output_type": "display_data",
          "data": {
            "image/png": "[encoded data removed]",
            "text/plain": [
              "<Figure size 72x72 with 1 Axes>"
            ]
          },
          "metadata": {
            "tags": []
          }
        },
        {
          "output_type": "stream",
          "text": [
            "W0701 13:46:11.150806 140366832105344 image.py:648] Clipping input data to the valid range for imshow with RGB data ([0..1] for floats or [0..255] for integers).\n"
          ],
          "name": "stderr"
        },
        {
          "output_type": "display_data",
          "data": {
            "image/png": "[encoded data removed]",
            "text/plain": [
              "<Figure size 72x72 with 1 Axes>"
            ]
          },
          "metadata": {
            "tags": []
          }
        },
        {
          "output_type": "stream",
          "text": [
            "W0701 13:46:11.285077 140366832105344 image.py:648] Clipping input data to the valid range for imshow with RGB data ([0..1] for floats or [0..255] for integers).\n"
          ],
          "name": "stderr"
        },
        {
          "output_type": "display_data",
          "data": {
            "image/png": "[encoded data removed]",
            "text/plain": [
              "<Figure size 72x72 with 1 Axes>"
            ]
          },
          "metadata": {
            "tags": []
          }
        },
        {
          "output_type": "stream",
          "text": [
            "W0701 13:46:11.419207 140366832105344 image.py:648] Clipping input data to the valid range for imshow with RGB data ([0..1] for floats or [0..255] for integers).\n"
          ],
          "name": "stderr"
        },
        {
          "output_type": "display_data",
          "data": {
            "image/png": "[encoded data removed]",
            "text/plain": [
              "<Figure size 72x72 with 1 Axes>"
            ]
          },
          "metadata": {
            "tags": []
          }
        },
        {
          "output_type": "stream",
          "text": [
            "W0701 13:46:11.553604 140366832105344 image.py:648] Clipping input data to the valid range for imshow with RGB data ([0..1] for floats or [0..255] for integers).\n"
          ],
          "name": "stderr"
        },
        {
          "output_type": "display_data",
          "data": {
            "image/png": "[encoded data removed]",
            "text/plain": [
              "<Figure size 72x72 with 1 Axes>"
            ]
          },
          "metadata": {
            "tags": []
          }
        },
        {
          "output_type": "stream",
          "text": [
            "W0701 13:46:11.689642 140366832105344 image.py:648] Clipping input data to the valid range for imshow with RGB data ([0..1] for floats or [0..255] for integers).\n"
          ],
          "name": "stderr"
        },
        {
          "output_type": "display_data",
          "data": {
            "image/png": "[encoded data removed]",
            "text/plain": [
              "<Figure size 72x72 with 1 Axes>"
            ]
          },
          "metadata": {
            "tags": []
          }
        },
        {
          "output_type": "stream",
          "text": [
            "W0701 13:46:11.831652 140366832105344 image.py:648] Clipping input data to the valid range for imshow with RGB data ([0..1] for floats or [0..255] for integers).\n"
          ],
          "name": "stderr"
        },
        {
          "output_type": "display_data",
          "data": {
            "image/png": "[encoded data removed]",
            "text/plain": [
              "<Figure size 72x72 with 1 Axes>"
            ]
          },
          "metadata": {
            "tags": []
          }
        },
        {
          "output_type": "stream",
          "text": [
            "W0701 13:46:11.968222 140366832105344 image.py:648] Clipping input data to the valid range for imshow with RGB data ([0..1] for floats or [0..255] for integers).\n"
          ],
          "name": "stderr"
        },
        {
          "output_type": "display_data",
          "data": {
            "image/png": "[encoded data removed]",
            "text/plain": [
              "<Figure size 72x72 with 1 Axes>"
            ]
          },
          "metadata": {
            "tags": []
          }
        },
        {
          "output_type": "stream",
          "text": [
            "W0701 13:46:12.103694 140366832105344 image.py:648] Clipping input data to the valid range for imshow with RGB data ([0..1] for floats or [0..255] for integers).\n"
          ],
          "name": "stderr"
        },
        {
          "output_type": "display_data",
          "data": {
            "image/png": "[encoded data removed]",
            "text/plain": [
              "<Figure size 72x72 with 1 Axes>"
            ]
          },
          "metadata": {
            "tags": []
          }
        },
        {
          "output_type": "stream",
          "text": [
            "W0701 13:46:12.257950 140366832105344 image.py:648] Clipping input data to the valid range for imshow with RGB data ([0..1] for floats or [0..255] for integers).\n"
          ],
          "name": "stderr"
        },
        {
          "output_type": "display_data",
          "data": {
            "image/png": "[encoded data removed]",
            "text/plain": [
              "<Figure size 72x72 with 1 Axes>"
            ]
          },
          "metadata": {
            "tags": []
          }
        },
        {
          "output_type": "stream",
          "text": [
            "W0701 13:46:12.396429 140366832105344 image.py:648] Clipping input data to the valid range for imshow with RGB data ([0..1] for floats or [0..255] for integers).\n"
          ],
          "name": "stderr"
        },
        {
          "output_type": "display_data",
          "data": {
            "image/png": "[encoded data removed]",
            "text/plain": [
              "<Figure size 72x72 with 1 Axes>"
            ]
          },
          "metadata": {
            "tags": []
          }
        },
        {
          "output_type": "stream",
          "text": [
            "W0701 13:46:12.534041 140366832105344 image.py:648] Clipping input data to the valid range for imshow with RGB data ([0..1] for floats or [0..255] for integers).\n"
          ],
          "name": "stderr"
        },
        {
          "output_type": "display_data",
          "data": {
            "image/png": "[encoded data removed]",
            "text/plain": [
              "<Figure size 72x72 with 1 Axes>"
            ]
          },
          "metadata": {
            "tags": []
          }
        },
        {
          "output_type": "stream",
          "text": [
            "W0701 13:46:12.676307 140366832105344 image.py:648] Clipping input data to the valid range for imshow with RGB data ([0..1] for floats or [0..255] for integers).\n"
          ],
          "name": "stderr"
        },
        {
          "output_type": "display_data",
          "data": {
            "image/png": "[encoded data removed]",
            "text/plain": [
              "<Figure size 72x72 with 1 Axes>"
            ]
          },
          "metadata": {
            "tags": []
          }
        },
        {
          "output_type": "stream",
          "text": [
            "W0701 13:46:12.819068 140366832105344 image.py:648] Clipping input data to the valid range for imshow with RGB data ([0..1] for floats or [0..255] for integers).\n"
          ],
          "name": "stderr"
        },
        {
          "output_type": "display_data",
          "data": {
            "image/png": "[encoded data removed]",
            "text/plain": [
              "<Figure size 72x72 with 1 Axes>"
            ]
          },
          "metadata": {
            "tags": []
          }
        },
        {
          "output_type": "stream",
          "text": [
            "W0701 13:46:12.977455 140366832105344 image.py:648] Clipping input data to the valid range for imshow with RGB data ([0..1] for floats or [0..255] for integers).\n"
          ],
          "name": "stderr"
        },
        {
          "output_type": "display_data",
          "data": {
            "image/png": "[encoded data removed]",
            "text/plain": [
              "<Figure size 72x72 with 1 Axes>"
            ]
          },
          "metadata": {
            "tags": []
          }
        },
        {
          "output_type": "stream",
          "text": [
            "W0701 13:46:13.117682 140366832105344 image.py:648] Clipping input data to the valid range for imshow with RGB data ([0..1] for floats or [0..255] for integers).\n"
          ],
          "name": "stderr"
        },
        {
          "output_type": "display_data",
          "data": {
            "image/png": "[encoded data removed]",
            "text/plain": [
              "<Figure size 72x72 with 1 Axes>"
            ]
          },
          "metadata": {
            "tags": []
          }
        },
        {
          "output_type": "stream",
          "text": [
            "W0701 13:46:13.273263 140366832105344 image.py:648] Clipping input data to the valid range for imshow with RGB data ([0..1] for floats or [0..255] for integers).\n"
          ],
          "name": "stderr"
        },
        {
          "output_type": "display_data",
          "data": {
            "image/png": "[encoded data removed]",
            "text/plain": [
              "<Figure size 72x72 with 1 Axes>"
            ]
          },
          "metadata": {
            "tags": []
          }
        },
        {
          "output_type": "stream",
          "text": [
            "W0701 13:46:13.411772 140366832105344 image.py:648] Clipping input data to the valid range for imshow with RGB data ([0..1] for floats or [0..255] for integers).\n"
          ],
          "name": "stderr"
        },
        {
          "output_type": "display_data",
          "data": {
            "image/png": "[encoded data removed]",
            "text/plain": [
              "<Figure size 72x72 with 1 Axes>"
            ]
          },
          "metadata": {
            "tags": []
          }
        },
        {
          "output_type": "stream",
          "text": [
            "W0701 13:46:13.557754 140366832105344 image.py:648] Clipping input data to the valid range for imshow with RGB data ([0..1] for floats or [0..255] for integers).\n"
          ],
          "name": "stderr"
        },
        {
          "output_type": "display_data",
          "data": {
            "image/png": "[encoded data removed]",
            "text/plain": [
              "<Figure size 72x72 with 1 Axes>"
            ]
          },
          "metadata": {
            "tags": []
          }
        },
        {
          "output_type": "stream",
          "text": [
            "W0701 13:46:13.699334 140366832105344 image.py:648] Clipping input data to the valid range for imshow with RGB data ([0..1] for floats or [0..255] for integers).\n"
          ],
          "name": "stderr"
        },
        {
          "output_type": "display_data",
          "data": {
            "image/png": "[encoded data removed]",
            "text/plain": [
              "<Figure size 72x72 with 1 Axes>"
            ]
          },
          "metadata": {
            "tags": []
          }
        },
        {
          "output_type": "stream",
          "text": [
            "W0701 13:46:13.838551 140366832105344 image.py:648] Clipping input data to the valid range for imshow with RGB data ([0..1] for floats or [0..255] for integers).\n"
          ],
          "name": "stderr"
        },
        {
          "output_type": "display_data",
          "data": {
            "image/png": "[encoded data removed]",
            "text/plain": [
              "<Figure size 72x72 with 1 Axes>"
            ]
          },
          "metadata": {
            "tags": []
          }
        },
        {
          "output_type": "stream",
          "text": [
            "W0701 13:46:13.977121 140366832105344 image.py:648] Clipping input data to the valid range for imshow with RGB data ([0..1] for floats or [0..255] for integers).\n"
          ],
          "name": "stderr"
        },
        {
          "output_type": "display_data",
          "data": {
            "image/png": "[encoded data removed]",
            "text/plain": [
              "<Figure size 72x72 with 1 Axes>"
            ]
          },
          "metadata": {
            "tags": []
          }
        },
        {
          "output_type": "stream",
          "text": [
            "W0701 13:46:14.113977 140366832105344 image.py:648] Clipping input data to the valid range for imshow with RGB data ([0..1] for floats or [0..255] for integers).\n"
          ],
          "name": "stderr"
        },
        {
          "output_type": "display_data",
          "data": {
            "image/png": "[encoded data removed]",
            "text/plain": [
              "<Figure size 72x72 with 1 Axes>"
            ]
          },
          "metadata": {
            "tags": []
          }
        },
        {
          "output_type": "stream",
          "text": [
            "W0701 13:46:14.266570 140366832105344 image.py:648] Clipping input data to the valid range for imshow with RGB data ([0..1] for floats or [0..255] for integers).\n"
          ],
          "name": "stderr"
        },
        {
          "output_type": "display_data",
          "data": {
            "image/png": "[encoded data removed]",
            "text/plain": [
              "<Figure size 72x72 with 1 Axes>"
            ]
          },
          "metadata": {
            "tags": []
          }
        },
        {
          "output_type": "stream",
          "text": [
            "W0701 13:46:14.412286 140366832105344 image.py:648] Clipping input data to the valid range for imshow with RGB data ([0..1] for floats or [0..255] for integers).\n"
          ],
          "name": "stderr"
        },
        {
          "output_type": "display_data",
          "data": {
            "image/png": "[encoded data removed]",
            "text/plain": [
              "<Figure size 72x72 with 1 Axes>"
            ]
          },
          "metadata": {
            "tags": []
          }
        },
        {
          "output_type": "stream",
          "text": [
            "W0701 13:46:14.552128 140366832105344 image.py:648] Clipping input data to the valid range for imshow with RGB data ([0..1] for floats or [0..255] for integers).\n"
          ],
          "name": "stderr"
        },
        {
          "output_type": "display_data",
          "data": {
            "image/png": "[encoded data removed]",
            "text/plain": [
              "<Figure size 72x72 with 1 Axes>"
            ]
          },
          "metadata": {
            "tags": []
          }
        },
        {
          "output_type": "stream",
          "text": [
            "W0701 13:46:14.697506 140366832105344 image.py:648] Clipping input data to the valid range for imshow with RGB data ([0..1] for floats or [0..255] for integers).\n"
          ],
          "name": "stderr"
        },
        {
          "output_type": "display_data",
          "data": {
            "image/png": "[encoded data removed]",
            "text/plain": [
              "<Figure size 72x72 with 1 Axes>"
            ]
          },
          "metadata": {
            "tags": []
          }
        },
        {
          "output_type": "stream",
          "text": [
            "W0701 13:46:14.835300 140366832105344 image.py:648] Clipping input data to the valid range for imshow with RGB data ([0..1] for floats or [0..255] for integers).\n"
          ],
          "name": "stderr"
        },
        {
          "output_type": "display_data",
          "data": {
            "image/png": "[encoded data removed]",
            "text/plain": [
              "<Figure size 72x72 with 1 Axes>"
            ]
          },
          "metadata": {
            "tags": []
          }
        },
        {
          "output_type": "stream",
          "text": [
            "W0701 13:46:14.973645 140366832105344 image.py:648] Clipping input data to the valid range for imshow with RGB data ([0..1] for floats or [0..255] for integers).\n"
          ],
          "name": "stderr"
        },
        {
          "output_type": "display_data",
          "data": {
            "image/png": "[encoded data removed]",
            "text/plain": [
              "<Figure size 72x72 with 1 Axes>"
            ]
          },
          "metadata": {
            "tags": []
          }
        },
        {
          "output_type": "stream",
          "text": [
            "W0701 13:46:15.109697 140366832105344 image.py:648] Clipping input data to the valid range for imshow with RGB data ([0..1] for floats or [0..255] for integers).\n"
          ],
          "name": "stderr"
        },
        {
          "output_type": "display_data",
          "data": {
            "image/png": "[encoded data removed]",
            "text/plain": [
              "<Figure size 72x72 with 1 Axes>"
            ]
          },
          "metadata": {
            "tags": []
          }
        },
        {
          "output_type": "stream",
          "text": [
            "W0701 13:46:15.270533 140366832105344 image.py:648] Clipping input data to the valid range for imshow with RGB data ([0..1] for floats or [0..255] for integers).\n"
          ],
          "name": "stderr"
        },
        {
          "output_type": "display_data",
          "data": {
            "image/png": "[encoded data removed]",
            "text/plain": [
              "<Figure size 72x72 with 1 Axes>"
            ]
          },
          "metadata": {
            "tags": []
          }
        }
      ]
    },
    {
      "cell_type": "markdown",
      "metadata": {
        "id": "uUB21FuLxhN1",
        "colab_type": "text"
      },
      "source": [
        "# Grad-Cam"
      ]
    },
    {
      "cell_type": "code",
      "metadata": {
        "id": "mUrAn9je3ilb",
        "colab_type": "code",
        "colab": {}
      },
      "source": [
        "preds = model.predict(x_test)\n",
        "class_idx = np.argmax(preds[0])\n",
        "class_output = model.output[:, class_idx]\n"
      ],
      "execution_count": 0,
      "outputs": []
    },
    {
      "cell_type": "code",
      "metadata": {
        "id": "QBZHb-1h3nVK",
        "colab_type": "code",
        "colab": {}
      },
      "source": [
        "last_conv_layer = model.get_layer(\"conv2d_21\")"
      ],
      "execution_count": 0,
      "outputs": []
    },
    {
      "cell_type": "code",
      "metadata": {
        "id": "XBSMFp7vWSkX",
        "colab_type": "code",
        "colab": {}
      },
      "source": [
        "import keras.backend as K\n",
        "grads = K.gradients(class_output, last_conv_layer.output)[0]\n",
        "pooled_grads = K.mean(grads, axis=(0, 1, 2))\n",
        "iterate = K.function([model.input], [pooled_grads, last_conv_layer.output[0]])\n",
        "pooled_grads_value, conv_layer_output_value = iterate([x_test])\n",
        "for i in range(64):\n",
        "    conv_layer_output_value[:, :, i] *= pooled_grads_value[i]"
      ],
      "execution_count": 0,
      "outputs": []
    },
    {
      "cell_type": "code",
      "metadata": {
        "id": "xdTIvDk0XBLS",
        "colab_type": "code",
        "colab": {}
      },
      "source": [
        "heatmap = np.mean(conv_layer_output_value, axis=-1)\n",
        "heatmap = np.maximum(heatmap, 0)\n",
        "heatmap /= np.max(heatmap)"
      ],
      "execution_count": 0,
      "outputs": []
    },
    {
      "cell_type": "code",
      "metadata": {
        "id": "qxYG5wo9ZT5j",
        "colab_type": "code",
        "colab": {
          "resources": {
            "http://localhost:8080/nbextensions/google.colab/files.js": {
              "data": "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",
              "ok": true,
              "headers": [
                [
                  "content-type",
                  "application/javascript"
                ]
              ],
              "status": 200,
              "status_text": ""
            }
          },
          "base_uri": "https://localhost:8080/",
          "height": 111
        },
        "outputId": "c6ecfa3a-83b3-444f-df4f-22915f8dc02f"
      },
      "source": [
        "from google.colab import files\n",
        "files.upload()"
      ],
      "execution_count": 85,
      "outputs": [
        {
          "output_type": "display_data",
          "data": {
            "text/html": [
              "\n",
              "     <input type=\"file\" id=\"files-71fe6cd8-6fc2-42da-8fce-3b1c38aa3fd8\" name=\"files[]\" multiple disabled />\n",
              "     <output id=\"result-71fe6cd8-6fc2-42da-8fce-3b1c38aa3fd8\">\n",
              "      Upload widget is only available when the cell has been executed in the\n",
              "      current browser session. Please rerun this cell to enable.\n",
              "      </output>\n",
              "      <script src=\"/nbextensions/google.colab/files.js\"></script> "
            ],
            "text/plain": [
              "<IPython.core.display.HTML object>"
            ]
          },
          "metadata": {
            "tags": []
          }
        },
        {
          "output_type": "stream",
          "text": [
            "Saving frog.png to frog.png\n"
          ],
          "name": "stdout"
        },
        {
          "output_type": "execute_result",
          "data": {
            "text/plain": [
              "{'frog.png': b'\\x89PNG\\r\\n\\x1a\\n\\x00\\x00\\x00\\rIHDR\\x00\\x00\\x00 \\x00\\x00\\x00 \\x08\\x02\\x00\\x00\\x00\\xfc\\x18\\xed\\xa3\\x00\\x00\\x0csIDATx^c\\xb4\\xb6\\xb3\\xff\\xf0\\xe1\\x1d;\\xd3?!\\xb6\\xffr\\xc2\\\\\\xa2B\\xdc\"\\x02<l\\xcc\\xac,\\xec\\x9c\\x0c\\xcc,\\xef\\xde\\x7f\\xf8\\xf5\\xe7\\xbf\\xa0\\x00?\\xd3\\xdf\\xdf?\\x7f\\xfe\\xfc\\xf1\\xe3\\x07\\x07\\'\\xc7_\\x86\\xbf\\xdf\\xbe\\x7f\\xe1\\x17\\xe0c\\xf8\\xff\\xf7\\xd7\\xcf_\\xcc\\x0c\\xac\\xcc\\xcc\\xcc\\xbc<<\\xdc\\xdc\\xdc\\xac\\xac\\x1c\\xdf\\x7f\\xfe\\xfa\\xcf\\xc8\\xc4\\xc0\\xc4\\x02\\x94\\xfa\\xf3\\x9f\\x91\\xe5\\xea\\xb5\\xab\\x1f\\xde\\xbc\\x11\\xe2``\\x14\\xe6\\x10\\xf9\\xcb\\xcb\\xc8)\\xf6\\xf5\\xdf\\xbb/\\x7f\\xff\\xffgd\\xfb\\xf6\\xe3\\xd7\\xb7\\xef?\\x7f\\xff\\xfd\\xf7\\x86\\x99\\x91\\x83\\xe5\\xff\\x9f?\\xff\\x98\\x99X\\xd8\\xd9\\xd9\\xbf\\xfd\\xf8\\xfa\\xe7\\xdf/\\xc6\\x1f\\xc2L\\xcc\\x0c@k9Y8\\xbe\\xfc\\xfc\\xf5\\xee\\xef\\x1f..nF&VFfV\\x06&\\xa6o?~\\xff\\xf9\\xfd\\x9b\\x99\\x85\\x9d\\x85\\x93\\x85\\x91\\x81\\x9dA^\\x98CA\\x9c_LT\\x88\\x13\\xa8\\x88\\x91\\xf1;\\xd0\\xad\\xbf\\x7f\\xfegdd\\xe3\\xe4d\\xf8\\xf3\\xff\\xff\\xbf\\x9f\\xfcB\\\\\\x7f~\\xffgc\\xe5\\xfc\\xfb\\x97\\x81\\x99\\x8d\\xfd\\xe7/\\xa0\\x01\\x8c\\\\l\\xec,\\xdc\\x9c\\x1cl\\xec\\x7f\\x18\\xbf2\\xfd\\xff\\xf7\\x87\\x81\\x91\\x99\\x91\\x81\\x87\\x9b\\xeb\\xcb\\xd7o@\\xe3\\x99\\x18\\x19>\\x7f\\xfa\\xc8,\\xca\\xcb\\xce\\xc7\\xf2GG^X\\x94\\x9b\\x85\\x9d\\xf9\\xff\\xef\\x9f?\\xbe\\x7f\\xfd\\xf1\\xe5\\xe3\\xf7\\x7f\\xff\\x7f\\xf3p\\xb3srr\\xfc\\xfa\\xf9\\x9d\\x8d\\xf9\\xbf\\x94(\\xff\\xbf\\xdf\\xbf\\xff\\xfc\\xfc\\xf5\\xfd\\xdb\\xb7\\xbf\\x7f\\xfepsq\\xfd\\xff\\xfd\\x8b\\x8d\\x85\\x99\\x8d\\x95\\xf5\\xdf\\xff\\xbf\\x0c@\\xd3\\x7f\\xffbea\\x06Z\\xf3\\xef\\xcf\\xcf\\x7f\\x7f\\xff020\\xfcg\\xf8\\xf7\\xfa\\xfd7\\x16A\\xa0\\'\\xd8\\xd9\\xf9\\xb99E\\xf9X\\xff\\xfe\\x03\\xba\\x0f\\x18\\xf2\\xcc@?\\xfe\\xfc\\xf7\\x9b\\x05\\x08\\xfe\\xff\\xfb\\xfb\\xf3\\xfb\\x7ff\\xa6W\\xaf>\\xfc\\xfd\\xfd\\xf7\\xf37\\xa0\\xf1\\xbfx8\\xf9\\x18~\\xfeef\\xf8\\xc7\\xc4\\xf8\\x9f\\x99\\x9d\\x03\\xe8 .V>\\x96\\xff\\xff\\x7f\\xfc\\xf8\\xf5\\xfd\\xf7\\x9f\\x7f\\x0c\\xff?|\\xf9\\xf1\\xe1\\xdb\\xef/\\xdf\\xfe\\xfc\\xf8\\xcd\\xc4\"*\\xc0\\xc1\\xcb\\xca\\xcc\\xc1\\xc1\\xcc\\xc4\\xfc\\x9f\\x93\\x93\\xf3\\xf7\\x9f\\xbf\\xff\\x18\\x18\\xff\\xff\\xff\\x05\\x8c\\xdb\\xbf\\xbf~\\x03\\xfd\\x01\\x8c\\xc8\\xff,l\\x9f\\x7f}\\xfd\\xfb\\x97\\xf9\\xdb\\xdf\\x7f@\\xf9\\xcf_\\x7f?}\\xf7\\x95\\x95\\xe9\\x1f\\xdf\\x17\\xc6\\xdf/\\xde|\\xff\\xf8MNDELL\\x86\\x91\\xf7\\xe3\\xcf\\xf7o\\xbf|\\xf9\\xfa\\xf1\\xf3\\x8f7\\x1f\\xbf?x\\xfc\\xf1/3\\x0b\\xb3\\x9d\\xae\\x94(\\x1f\\x0b/7;\\x0b\\xe3?\\x90%\\x7f\\xff\\x02\\xc3\\x88\\xf1\\xff?^n>>\\x1e\\xce_?\\xbe\\xb0\\xb1s\\x01-{\\xfc\\xe2\\xdd\\xb3\\xb7?\\xbf\\x7f\\xfe-\\xc8\\xc0\\xc4\\xf6\\xff\\xef\\xe3\\xb7\\x9f\\xde}\\xfd\\xf9\\xfe\\xe3\\x97\\x7f\\xff\\xfe\\x9bj\\x1a\\xfd\\xfe\\xc8\\xcc\\xc1\\xc2\\xc0\\xc7\\xff\\xef\\xd7\\xaf\\x1f\\xdf\\xbe\\x03\\x93\\xc5\\x7f~>~\\tI\\x116.Nfg\\x03Y\\xb6\\x7f\\xdf9\\xb98\\x81i\\xe0\\xf7\\x1f\\x86\\xdf\\x7f\\xfe\\xf0\\xf1\\xf2p\\xb0\\xb3\\xffg`\\xfa\\xff\\xff7\\x1b;\\xdb\\xdb\\x8f\\x7f\\xef>|\\xff\\xfc\\xdd\\xafw_\\x18\\xf9\\x19\\x98\\xe2m\\x8d\\x9c\\x0c\\x94\\xbf\\xfc\\xfa\\xff\\xf2\\xc3\\xb7\\xff\\x0c\\x7f\\xb99\\xd9\\xf8X\\xd8\\xbe}\\xf8\\xc0\\xc5\\xf5\\x93\\x83\\x0b\\x18\\xc2\\xff\\x7f\\xfc\\xfe\\x05L\\xa5\\x8c\\x0c\\xff\\xe4e%\\xd8X\\x99\\x98\\x03\\xacu\\x18~}gfe\\xff\\xf1\\xf3\\xcf\\xd7_\\xc0\\x84\\xc0\\xf8\\x0f\\x98j\\xfe\\xfd\\xff\\xfe\\xfb\\x17\\x17/\\xf7\\x1f\\x06\\xe6\\xcb7\\x9e\\x01\\xed\\xf8\\xc7\\xc2\\xfc\\x9f\\x85Y\\x86\\xf3\\x9f\\x9b\\n\\x1f70\\xaa\\xff\\t~\\xfc\\xc9\\xf4\\x1b\\x18\\x90\\x7f\\xfe<\\x7f\\xfd\\xf6\\xfd\\x97\\xf7L\\x9c\\xbf\\xd9\\xb8\\xb9\\xff31\\xb1\\xb22rq\\xb2\\xb3\\xb213\\xff\\xff%\\xca\\xcf\\xcd\"(\"*\\xc8\\xc3\\t\\x14\\xff\\xf0\\xe9\\xfd\\xef\\xaf_\\x98\\xfe\\x02\\xe3\\xe0\\xdf\\x7fV\\x16\\x1e\\x1e\\x8e\\xdf\\x0c\\x1c\\xd7\\xef\\xdd\\xfa\\xfa\\xf3+\\x07\\x07;\\x07\\x1b\\x0b\\'7\\x97 \\xf3\\x9f\\xb3w^\\xfe\\xf9\\xc5\\xf2\\x93_BT\\x90\\x83\\x91\\x81\\xef\\xf7\\x9f\\x1f\\xdf~}\\xff\\xfa\\xed\\xff\\xaf?\\x7f\\x18\\x7f\\xffb`d`\\x05F=\\x130\\xa3\\xb2\\xfc\\xf9\\xf9\\xf3\\xff\\xdf\\xff,\\x0c\\xc0\\xac\\xc1\\xca\\xca\\xc0\\xc0\\xc0\\xce\\xc1\\xca\\xc5\\xc0\\r\\xe4311\\xfdf\\xf8\\xc7\\xce\\xc9\\xff\\xe6\\xc5\\xe7oo\\xde+\\tq\\xfc\\xfc\\xc1\\xc0\\xc1\\xcd\\xa5\\xae,\\xcd\\xf4\\xf3\\xc7\\x1ff\\xd6O\\x9f\\xde\\xb30\\x7f\\xe4e\\xe3\\x16\\x16TVV\\x95\\xbb\\xff\\xe8\\xf4\\x8d[O\\xd9X~\\xfe\\xff\\xff\\xe5\\xcf\\x1f\\x16&\\x166V6\\xd6\\x7f@\\xc0\\xc0\\xc8\\xc8\\xc8\\xc4\\xf2\\xfd\\xc7o\\xc6\\xdf\\xdf\\x19\\x18\\xfe|\\xfd\\xfa\\xe9\\xd7o\\xa6?L\\x1c_\\xbe}\\xfe\\xf4\\xed\\xb3\\xb4,0\\xef~\\x96\\x17aT\\x96b\\xfd\\xf6\\x83QZM\\x9f\\xed\\xff\\x8f\\xf7\\x1f\\x7fs\\n\\x083\\xbce\\x96\\x95\\x90\\xfc\\xf0\\xf5\\xab\\x92\\x86*\\x9f \\x17\\x9f\\xa0\\xe6\\xfb\\xd7\\x9f\\xdf\\x7f\\xfc\\xc8\\xca\\xc6\\xcd\\xf4\\x9f\\xfd\\xf7\\xbf\\xbf\\xff\\xfe1\\xfc\\xfd\\xfd\\x07\\x98\\xd1\\xfe\\xff\\xff\\xcf\\xf2\\x97\\xf1\\xef\\xff\\xbf\\xc0\\xcc\\xfa\\x9f\\x93\\x83\\x93\\x87\\x97\\xeb\\xd9\\xeb\\xef\\xf7\\x9f\\xbcfa\\xfd\\xcf\\xf6\\xf2\\xd9\\x8f\\x97\\xafU\\xc5X\\x9d\\x1dT\\xef>}\\xc7+-*\",\\xf1\\xea\\xf5K\\x01\\x01n\\xa6\\x7f\\xaclL\\xcc\\xaf^?e\\xe1\\xf8\\xf0\\xfa\\xc3\\xf3\\xa7\\xcf\\xbf\\xb0\\xb2r\\t\\xf0\\xfd\\xfb\\xfe\\x1dh\\x1e\\x13#\\x13\\xe3\\xbf\\x7f\\x7f\\x99@\\xaeg\\xfa\\xfb\\x9f\\x81E@\\x80\\xe7\\x0f\\xcb\\x9f/_~\\xfc\\xff\\xfd\\xf7\\xe3\\xe7\\x8f\\x0f\\x1f\\xbd\\xfc\\xf2\\xe5\\x0b\\'\\x07\\xd3\\xf3\\xfb\\x9f\\xc49\\xd8\\xa4\\xa5\\xe5\\x05\\xa4\\x14Y?\\xffc\\xe0`\\x95\\xd17\\xe3x\\xf1\\x94\\xf3\\xcf\\xeb\\xbf\\x0c?\\xbe~\\xfd!\\xc9%\\xfa\\xeb\\xef?Fn\\x1e\\x19n)^\\x01\\x89\\xcfo_\\xbcz\\xf9\\xf67#\\xeb\\x8f_?\\x81\\t\\x90\\x9b\\x9d\\xe3\\xd7\\xf7/\\xc0\\xb0b\\xf9\\xfc\\xe1-\\xcb\\xaf\\xcf\\xac\\xc0\\x94\\xc5\\xcc\\xc0\\xc2\\xcc\\xfc\\xed\\xcbGA^n\\x01n\\x8e\\xef\\xef?\\x89I\\tK\\xeb\\xd9_y\\xf2\\xeb\\xd6\\x9d_V\\x92B\\x1f>\\xfc\\x12W\\xd6gb\\xf8\\xf6\\xeb\\xe7k\\x81\\xff\\xff>\\xbdz\\xcb\\xf9\\xeb\\xb7\\xa4\\x90\\xd0\\x87\\xbf\\xec\\xacz\\x82\\xdf?<?\\xbam\\xd3\\x93\\xc7\\xaf\\x81\\xa5\\x07\\x03\\x03\\xe3\\xf7\\xff\\x0c\\xbf\\x81\\xe5\\xc1\\xef\\xdf,\\xc0\\xe2\\xe9\\xef\\xf7/\\xff\\x19\\x806\\xfc\\xf9\\xcb\\xc8\\xfc\\xfe7\\xc3\\xa7O\\xff\\xff\\xff\\xfc%\\xc9\\xcfm\\xea\\xe8(\\xa3n\\xb1n\\xfe<\\tn\\x1e\\xe6_\\xdf\\x9f\\xde\\xbb+\\xa1\\xa4\\xc5!\\xac\\xc2\\xfd\\xff\\xf3\\xb7w\\xaf8\\xff\\t\\x02\\x0b\\xa67\\x9f\\xbf\\t\\x88*\\nK(|\\xff\\xc2\\xc7\\xc4\\xc7\\xf0\\x97\\xed\\x070\\x88~\\x03\\xb3\\x02\\xd00`\\xd0\\xffaaa\\x04\\xe6\\x96\\xdf\\xbf\\x19\\x99\\x98X\\x98\\x18\\x80\\x89\\x9f\\xf1\\x1f\\x83\\x900\\x97\\x04\\xd7\\x1f#\\x135M+\\x8b\\xf7\\xaf\\xbe\\xb0\\xff\\xf9\\xa8$#\\xf3\\x8f\\xf1\\x9f\\x84\\x98\\xe8\\x9f\\x1f\\x7f\\xbe}\\x00%\\xfe\\xdf\\xdfY\\xfe2\\xf0\\xdc}\\xfa\\xe4\\xf2\\x953V\\x16\\xbf\\x84%\\x84?}~\\x05L\\x85\"\\n\\xdc\\xff\\x98\\x98\\xfe\\xfe\\xfa\\x0b,\\x16?\\xbe\\xfe\\xf0\\xf33\\x17\\x0b\\xb0p\\xf9\\xfe\\xf3\\x1f\\x1b7\\x0f\\x0b\\x0b+3\\xd3/\\x15\\tA\\x0eN&\\x05yY}\\x1bGIu\\xbd\\x0b\\xc7\\xe7\\xcb\\xc9\\nJh\\xeb\\xb2\\x89*\\xb3p\\xf1\\x7f\\xfb\\xf1\\xe5\\xfb\\xa7\\xcf/\\x9f=~\\xff\\xf2\\xc9\\xdf\\xdf\\xdf8y9DDX\\x1f?;/.)\\xfd\\xe7\\xdb\\x97\\xff\\xdf\\x7f2~}\\xff\\xf7\\xff\\xf7\\xff\\x8c\\xffAYM\\x82\\xf5\\x13;#\\xd0T\\x96\\xf7\\x9f\\xbf\\xfd\\xfd\\xc1\\x08,-\\x80\\xa5\\xad\\x980\\xd7\\xe3\\xe7\\x1f\\x94\\x8d<dt=\\x18\\x18\\x04\\x7f\\x7f\\xfe\\xca\\xcf\\xcb/\\xaaf\\xf0\\x95E\\xe8\\xea\\xf9\\xd3?\\xbf\\x7f\\xfd\\xf4\\xe9\\xc3\\x9b\\xa7\\x8f\\x98\\xff\\xfe\\xe2\\xe0`\\x91V\\x94\\xd6SS\\xf9\\xc3\\xcc\\xcd\\xca,\\xc0\\xca\\xf6\\x9b\\xe5\\xc7\\x8fo\\x0f\\x9f\\x02]\\xfc\\x87\\x89\\xe1\\x0b33\\x970\\xb7\\xb8\\x940\\xcb\\xcf\\xef?\\xb8\\x80\\x05\\x1d\\x073+\\xd3\\x1f`\\xa0q\\xf20\\xfb\\x85\\xfbYy:\\xf3\\x89\\x88\\xbf\\xbcw\\x9d\\x99\\xe9\\xcf\\x87\\xcf\\x1f_?\\xb8\\xf9\\xec\\xf3\\xdf\\x03\\x1b6\\xf0p\\xb2\\xfe\\xf8\\xf9EB\\x9c\\x9f\\x8f\\x97\\xfb\\xfe\\x93\\xc7\\xbf\\x98\\xfe\\x08I)\\xa8\\xe9\\x1a3\\xfce\\x7f\\xf7\\xe1\\t0\\xbb\\xbc\\xff\\xfe\\x87\\xf1?\\xcb\\x8f\\xef\\xff\\xbe\\x00\\xb3\\xc0\\x97\\x1f\\x9a\\x02\\x0c,\\xff\\xfe\\xffb\\xf8\\xf7\\x97\\xf1\\xcf\\xbf?\\xff\\x7f32\\xfe\\xe7`\\xe7306fge\\xbdv\\xe1\\xfc\\xfbgw\\x81\\xd5\\xf0\\xe7\\xf7\\xef\\x1e\\xdf\\xb9\\xf6\\xe5?\\'\\xeb\\xdf\\x1f<,\\xcc|\\x1c\\xdc\\xa2\\x82\\xfc\\xcf_\\xbe\\x00\\xd6\\x88\\xdf>\\x7fy|\\xff\\x11\\x03\\xc3\\xd5/_>\\x83\\xeaTv\\xb1\\xb7\\x7f\\xf8\\x80u\\x14\\x17/\\'\\'\\x0b\\xfb\\xe7o\\x9f\\x80\\xa6\\xb200\\xfc\\xfb\\x07,\\\\X\\xb9\\xfe\\xfe\\xf9\\xfb\\x8b\\xe1\\x8f8\\xbf\\xe0\\xceM[\\x84\\xc4\\xaf\\x8aI\\xca\\xfe\\xfa\\xf6\\x91\\x95\\x95\\x9d\\x87\\x9b\\x8f\\x85\\t\\x18\\n\\xac\\x12b\\xc2\\xdf?\\xbf\\xe7df\\x7f\\xfb\\xfa\\xcd\\xef_\\x7fy98\\x7f}\\xf9r\\xfb\\xfc\\x99\\xe77n\\xfd\\xfc\\xf3\\x1dX\\xf3\\xff\\x05*\\x93\\xe1f\\xe0\\xfe\\xc5\\xc4\\xfe\\x83\\xe3\\xdf\\x1fA\\x06NMmE\\x96\\x7f\\xff\\x18\\x815\\x1f\\x07\\xcb?\\x06P\\xfd\\xc4\\xfd\\xef\\xd7\\xef7o^|y\\xfd\\x82\\xf3\\xf7\\xa7\\x7f\\x0c\\xccB\\x82\\xc2\\x02R\\xa2\\x7f\\xfe\\xfe|\\xfa\\xec\\xc5\\x7f\\x06`Y\\xc9\\x02,\\xd4\\x98\\x19Y\\xb99\\xb8\\x80U\\x17\\xf3\\x1fP\\xe5\\xf4\\xf7\\xd7G\\xa6\\x7f\\x8c\\x9f\\xbe\\xbd\\xff\\xc5\\xfe\\x9dW\\xea\\xe7W\\xce\\x0f\\x9f\\xff\\xfd\\xfa\\xf1\\x95I\\x98OIDL\\x98\\x89\\x89\\x91\\x9d\\x83\\x9d\\xf3?\\xc3\\x1f.N\\x0e1a1`\\xa5,\\xcc\\xcb\\xc6\\xcf\\xfe\\xe7\\xd7\\xc7\\x97\\xbf>\\xbf\\xf9\\xf6\\xed3;\\x9f\\x10\\x13\\xb7\\xb0\\xba\\x9e\\xc9?\\x16\\xce_\\xff\\x81F\\xb1|\\xf9\\xf2\\xed\\xdf_\\x066f\\x16\\x0eV\\x96?\\x7f\\xfe\\xdcz\\xf2\\xfa\\xcc\\xb5g\\x97\\xef>\\x7f\\xf7\\xe7\\x13\\x87\\x00\\x0b+\\x1b\\xdb\\x97/\\x7f\\xbe~\\xff\\xcf\\xcd+\\xfc\\xfd\\xdb_&6\\x16\\xa6_?\\x7f\\xfe\\xfb\\xcf\\xf6\\x8f\\x99\\xfd\\xdb\\xef\\xef\\xcc\\xcc\\xff\\xb888\\xb9yE\\xd9\\xb8\\xf8\\xc5\\xc5D>\\xbf\\x7f\\xfd\\xed\\xd7oQY\\x95o\\xff\\xd8\\xb5M\\xad5\\rL\\x98X8\\xbe~\\xf9\\xf9\\xed\\xdbw`a\\x03\\xacU\\x9e?}\\xf6\\xe8\\xfe\\x8b/\\xdf\\xbes\\xf2\\x00\\xdbTb\\x8c?X\\x19\\x9fs\\x0b\\xbe\\x12Q\\xe3P\\x94\\x11\\x90\\xb9s\\xed\\x05\\x8b\\xb8(\\xd3\\xef\\xb7o\\xbf\\xff\\xfd\\xf7\\xf5+0\\x08\\xfe\\x02\\xeby>>a`[\\x01\\x98 9YY\\x18~\\xb1\\x9c9vLI\\xfd\\xe5\\x93\\'/\\x80\\x9e\\xe5b\\x07\\xb6\\xb1\\x80M\\r\\xee\\xaf_\\xbe\\x03\\xc1\\x9f?\\xc0\\x06\\x00\\xbb\\x95\\xa1\\x1a\\x07/\\xdf\\x1f\\xe6?\\xc0\\x9c\\xf1\\xfd\\xf1\\x0f\\xa6\\xcf\\x1cb\\\\\\xbc\\x86j\\xdab\\x02\\xe2g\\x9f\\xdfg\\x91\\x93e\\xe3g\\xe4\\xb8\\xf3\\xf8\\xdb\\xcb\\xd7\\xff\\x7f\\xfde\\xe7\\xe1a\\xf9\\xfa\\xed\\xe3\\xdf\\x7f_\\x80-\\x8bw\\xaf\\xdf~\\xfe\\x02l\\x19|d\\xfe\\xff\\x91\\x97G\\xf0\\xe5\\x8bwO\\xbe\\xfe\\xf8\\xf7\\x9fQ\\\\T\\x98\\xf1\\xdf\\xef\\xf7\\x1f\\xde\\xb3s\\xb3\\x0b\\xf0\\xf3\\xb213\\xfd\\xfc\\xf5\\x97\\x81\\x85\\xf5\\xebO\\xa6__X\\x81YYEVBJB\\xf8\\xf1\\x93\\x97o_\\x7fc\\xe1\\x13d\\xfd\\xfe\\xfa\\x9b\\xa0\\x183\\x037\\xd7\\x9b\\x97?\\x7f\\xfc\\xfa\\xc5\\xc2\\xc6\\xf7\\x0b\\x98t\\x7f\\x03\\x9b)??~\\x7f\\xcf\\xcd\\xc9\\xfe\\xe3\\xdb\\x8f\\xef?\\xde\\xfc\\xfa\\xfd\\x17(\\xf4\\xff?\\xf3\\x97O\\xdf\\xf8\\xf88\\xf9\\xf8\\xf8\\xbf\\x7f\\xff\\xf6\\xe6\\xed{`\\x9b\\x11X\\xd20\\xfe\\xf9\\x0f\\xac\\xf4\\xd89\\x18\\xd8\\xd8\\x98\\x15T\\x14\\xbe\\x7f\\xfb\\x7f\\xe8\\xd0\\xb5K\\xb7^\\xb1\\xb0p\\xb0p\\xf0\\xb1\\t\\xf1\\x00\\xab\\x9e\\x9f\\xac\\x9c\\xff\\x80\\x95\\x15\\xc3_&`|\\xffe\\x05\\xb6\\x88>\\xb0q\\xb1\\xb0\\xb2\\x00\\xabW\\xae\\x9f\\xff\\x81\\xe9\\xeb\\x17\\xb0A\\t,\\xbb\\xfe\\xff\\xfa\\xf1\\xf7\\x07\\x03+\\x0b+\\x03\\x1b\\xfb\\x87\\xf7\\xef\\xbf\\xff\\xfa\\rl\\xa7\\xb2\\x00+B`\\xed\\xcf\\xf0\\xe7\\xe5\\x9b\\xcf\\xef\\xbf\\xfc\\xf9\\xfc\\xf5\\xe3\\x9e\\x037^~c\\x00&\\tV\\x06f\\xa0#~\\xb0r\\xfe\\x07\\x16\\xe2\\xfc\\xfc\\xff\\xbe|\\xfa\\xfe\\xe5\\xd3\\xcb/\\xdf\\xfe\\xfe\\xfe\\xf1\\x97\\x97M\\x98\\x83\\x95\\x15X\\xbb\\xb2\\xb00\\xb111\\xb0\\xb23\\x03kA.\\x1e`\\xbd\\xc8\\xf0\\xe7\\xef\\x1f6N\\x16>\\x01\\xaew\\xef>\\x7f\\xfe\\xff\\x8fOH\\xf8\\xdb\\x9f_\\xb7\\x1f\\xbc\\xbdq\\xf9\\xb1\\xb8\\x10\\x9f\\xb8\\x0c\\x17\\x03\\xd3?\\x11~^\\x96\\'\\x0f\\x19~~\\xe0\\xe0\\x15\\xfd\\xc3\\xc1\\xf9\\x9b\\x9f\\x87AH\\x88\\x05\\xd8\\xb2\\xfc\\xf0\\xe1\\xdb\\xfb\\xb7l\\xef\\xdf20\\xffc\\x0662\\xfe\\x02\\x9b#\\xc0J\\nX\\xcc312\\xb3\\xb0|\\xff\\xcb\\xf4\\xff\\x0f\\x03\\xeb\\xbf\\xdf\\x7f\\xbe\\xbd\\xfb\\x0bL\\x89,\\xac\\x1f\\xbe|\\x03\\xc6\\xc2\\xbbO\\xdf\\x1f\\xdcy\\xfb\\xe1\\xedW`#M\\x82_BS^\\xfa\\xd3w\\x06\\x96\\xbf\\xac\"\\xbf\\xd9L~\\xfe\\xfb\\xc9\\xf4\\xe7\\r\\x07?\\xa3\\x80(\\x87 \\xb0\\x84\\xf9\\xf6\\xef\\xc3;\\xce\\x0fo\\x98\\xbf\\x7fe\\x01:\\x14\\x98\\xbc\\xfe\\xfd\\xf9\\x07\\x8c\\x076`\\x00\\xb30\\x7f\\xfe\\xf1\\xef\\xfb\\x97\\x1f\\xac\\xff\\x7f\\xf12\\xf1\\xfec\\xfa\\x04\\xacT\\xd8\\xb9\\xffs\\xb0\\xb2\\x0b\\xb0\\xfdRb\\x10\\xd0\\xd5\\xe7V\\xd7\\xd3WPQ1\\xb3\\xf8\\xf6\\xe4\\xd9\\x17\\x009\\xb7\\xe5\\x9e\\xe3\\xffx\\xcd\\x00\\x00\\x00\\x00IEND\\xaeB`\\x82'}"
            ]
          },
          "metadata": {
            "tags": []
          },
          "execution_count": 85
        }
      ]
    },
    {
      "cell_type": "code",
      "metadata": {
        "id": "QzkOG0uZXJHd",
        "colab_type": "code",
        "colab": {
          "base_uri": "https://localhost:8080/",
          "height": 154
        },
        "outputId": "a499f809-4c20-45ee-8a04-da9c3e04f0ff"
      },
      "source": [
        "import cv2\n",
        "from google.colab.patches import cv2_imshow\n",
        "img_path = \"frog.png\"\n",
        "img = cv2.imread(img_path)\n",
        "img = cv2.resize(img, (60,60))\n",
        "heatmap = cv2.resize(heatmap, (60, 60))\n",
        "heatmap = np.uint8(255 * heatmap)\n",
        "heatmap = cv2.applyColorMap(heatmap, cv2.COLORMAP_JET)\n",
        "superimposed_img = cv2.addWeighted(img, 0.6, heatmap, 0.4, 0)\n",
        "cv2_imshow(img)\n",
        "cv2_imshow(superimposed_img)\n",
        "cv2.waitKey(0)\n",
        "\n",
        "\n"
      ],
      "execution_count": 160,
      "outputs": [
        {
          "output_type": "display_data",
          "data": {
            "image/png": "[encoded data removed]",
            "text/plain": [
              "<PIL.Image.Image image mode=RGB size=60x60 at 0x7FA9008276A0>"
            ]
          },
          "metadata": {
            "tags": []
          }
        },
        {
          "output_type": "display_data",
          "data": {
            "image/png": "[encoded data removed]",
            "text/plain": [
              "<PIL.Image.Image image mode=RGB size=60x60 at 0x7FA9008276D8>"
            ]
          },
          "metadata": {
            "tags": []
          }
        },
        {
          "output_type": "execute_result",
          "data": {
            "text/plain": [
              "-1"
            ]
          },
          "metadata": {
            "tags": []
          },
          "execution_count": 160
        }
      ]
    },
    {
      "cell_type": "code",
      "metadata": {
        "id": "DEjOtIJa0f7j",
        "colab_type": "code",
        "colab": {}
      },
      "source": [
        ""
      ],
      "execution_count": 0,
      "outputs": []
    },
    {
      "cell_type": "code",
      "metadata": {
        "id": "kbbauvJt0sDG",
        "colab_type": "code",
        "colab": {}
      },
      "source": [
        ""
      ],
      "execution_count": 0,
      "outputs": []
    }
  ]
}